{
 "cells": [
  {
   "cell_type": "markdown",
   "metadata": {},
   "source": [
    "# Institutional DeFi: Arbitrage opportunities of Permissioned and open Uniswap AMMs "
   ]
  },
  {
   "cell_type": "markdown",
   "metadata": {},
   "source": [
    "## Research Topic/Question\n",
    "- a. How would the economic paramaters (price, TVL, trade volume, slippage and impact of time) develop in a replicated DeFi permissioned application vs. permissionless DeFI applications?\n",
    "    - i. With the example of an AMM protocol\n",
    "    - ii. How to define the role arbitrageur, which agent can arbitrage accross the white/grey pools\n",
    "    - iii. Which arbitrage options are possible (same asset, cross asset, cross pool)\n",
    "- b. Can we derive discussions about the future size of both pools?\n",
    "    - i. Under what assumptions will the TVL be larger/smaller in permissioned vs permissionless\n",
    "    - ii. Under what assumptions will the earned Liquidity Provider - LP - fees be larger/smaller"
   ]
  },
  {
   "cell_type": "markdown",
   "metadata": {},
   "source": [
    "## Pool constraints\n",
    "\n",
    "- a. Both pools should have 100m from outset\n",
    "- b. Both pools just 1 trading pair / 2 assets to start with tbd pending data. If we want to open DeFi to TradFi it should be token pair USD/ETH likely in the form of USDC/ETH, USDT/ETH and DEX would be (W)ETH\n",
    "- c. White pool is constrained KYC/AML, we are not modelling KYC in smart contracts, just stipulating policy that white pool is for KYC’d agents only and from beginning\n",
    "- d. Agent: 20 agents in grey pool as more diversified retail audience, 8 agents in white pool\n",
    "- e. Trade frequency: Until we have data, we could start out with the white and grey pools are identical, then white pool should be possible to set vs grey pool, say 25/50/75/100/150/200 pct of grey pool trading points\n",
    "- f. Uniswap v2 convex curve, agent behavior and arbitrage should all follow Angeris/Chitra outline in https://web.stanford.edu/~guillean/papers/uniswap_analysis.pdf, where for reserves of coin a and coin b, denominated Ra and Rb respectively.\n",
    "     - i. Transactions must satisfy (Ra − ∆a)(Rb + y*∆b) = k\n",
    "     - ii. Slippage formula inherent in the xy=k model\n",
    "- g. Time dimension – Block-time is 10 seconds, institutional trade is continuous, this means the data we get will have different timing dimensions in DeFi vs Institutional. Set both pools default to block-time 10 seconds\n",
    "- h. Trade size – we should be able test different trade sizes and add variation for stochastic simulation. We must also be able to split trades if slippage is too high\n",
    "- i. The agents include liquidity providers (LP) and traders, who also perform arbitrage between the 2 pools. The more sophisticated arbitraguer agent is not included in first version\n",
    "- j- Transaction costs:\n",
    "     - i. Gas fee – set as standard gas fee pending data, independent from the trade size so USD 5 per trade, but model must be able to adjust gas to say 100 USD per trade, so we can model gas fee to go up from beginning.\n",
    "     - ii. Fixed AMM fee 0,3 pct but allow the model to change from beginning on either pool, so eg white pool can have 0,05 pct and grey is 0,01 pct fee from outset. We will not simulate a variable AMM fee, as we are not designing an AMM incentive mechanism, we are testing a whitelisted Uniswap concept against a grey ditto.\n"
   ]
  },
  {
   "cell_type": "markdown",
   "metadata": {},
   "source": [
    "## Model input details\n",
    " \n",
    "The idea is to model institutional investors from traditional finance (TradFi), who face stringent regulatory requirements, with access to decentralized finance (DeFi) protocols using a simple example based on the Uniswap AMM model. The suggested approach will offer private pools of funds where only participants who pass KYC procedures can enter trades. Such an instrument will be considered a complex financial instrument under existing regulation, so not suitable for broader basic retail distribution, but it would be relevant to investigate how to bridge DeFi and TradFi and using cadCAD (more specifically radCAD) as the simulation tool for an institutional offering of AMM.\n",
    "In terms of any differences between the pools, the working hypothesis is, that participants with access to both the private and public pools could arbitrage the difference.\n",
    "\n",
    "The methodology for the tests is to create two universes - one for a permissioned AMM and one for a normal/open AMM both based on the Uniswap AMM model - to subsequently be able to represent sequences of arbitrage actions.\n",
    "\n",
    "Baseline would likely be a micro economic black box model with some simple assumptions around the ecosystem, using a clone of 2 permissionless AMMs and time series to simulate to demonstrate arbitrage conditions, using simple arbitrage strategies, nailing down the intent of arbitrage and informed arbitrage actors vs LPs, leveraging existing academic work on the same. The state of the system should be described by a state map with a set of state variables with the dynamics of the system described by policy functions and state update functions, which are evaluated with cadCAD according to the definitions set in the partial state update blocks.\n",
    "\n",
    "A simulation configuration is then comprised of a system model and a set of simulation properties, that need to be developed including “what if” scenarios, for example:\n",
    "\n",
    "- Assuming every price difference will lead to arbitrage, every trading point in permissioned (“white”) pool is then perfectly matched by arbitrageurs with access also to permissionless (“grey”) pool -> both pools are equal and price discovery is the same. So the task is to define assumptions, test assumptions incl fees, slippage, time, rebalancing, Oracle/CEX/DEX influence and other realistic constraints affecting arbitrage as it relates to grey/white pool.\n",
    "- Simulate results if only 1, 10, 25, 50, 75, 100, 200 pct of trading points in one pool are matched by the other -> ? Investigate/hypothesize under what conditions arbitrageurs will accept KYC “trade-off”, ie is there is demand/supply problem we can solve.\n",
    "- How long will it take for arbitrageurs to close gaps between the 2 pools, what if the gap is bigger or fee is lower etc. Who will take liquidity from the KYC’d pool, is there an institutional demand what, and what will the supply demand elasticity look like. The grey pool will have more participants and deeper liquidity, what will this look like and how will the white pool evolve via arbitrage.\n",
    "- Review existing litterature for more advanced arbitrage strategies and test interactions per 1-3) above incl CEX-DEX lessons and possibly the role of order routing services\n",
    "- Validate findings via interviews with key players\n",
    "- To be determined if and how to substitute out Uniswap for Balancer for Hydra during project"
   ]
  },
  {
   "cell_type": "markdown",
   "metadata": {},
   "source": [
    "## Model structure\n",
    "\n",
    "This approach necessitates the definition and specification of two models - but 18th October this needs to be rephrased I think (HAX) - we want to investigate liquidity provision, liquidity removal, trading in each Uniswap v2 pool with a distinct trading pattern around only one token pair - ETH/USD - based on assumptions around trading patterns in similar pools and then arbitrage between the 2 pools\n",
    "   - 1 Uniswap model with 3 instances that each are responsible for a particular trading pair in a permissioned mode\n",
    "        - one instance is used for liquidity provision in asset $R_i$: this is modeled as a Uniswap of $R_i$ and $Q$\n",
    "        - one instance is used for liquidity provision in asset $R_j$: this is modeled as a Uniswap of $R_j$ and $Q$\n",
    "        - one instance is used for swaps between assets $R_i$ and $R_j$: this is modeled as a Uniswap of $R_i$ and $R_j$\n",
    "   - 1 Uniswap model with 1 instance that is responsible for a particular trading pair in a permissionless mode\n",
    "        - one instance is used for arbitrage opportunities and swaps between assets $R_i$ and $R_j$: this is modeled as a Uniswap of $R_i$ and $R_j$\n",
    "\n",
    "## Test agents\n",
    "\n",
    "The first model (KYC - White pool) specifies a number of eight agents that each have their local balances, can interact with the system and are modeled to be responsible for **one action only**. This allows to track for each testcase how the balances will develop and to show independently which events will trigger changes to local and global states. Most importantly directly and indirectly affected variables can be easily identified.\n",
    "\n",
    "The second model (Grey pool) specifies a number of 20 agents that each have their local balances, can interact with the system and are modeled to be responsible for arbitrage actions. This allows to track for each testcase how the balances will develop and to show independently which events will trigger price deviations to the first pool as wel as arbitrage opportunities in this permissioned pool. The 8 agents from the KYC pool are amongst the 20 agents mentioned here, so they will have positions in both pools.\n",
    "\n",
    "Two dataframes of agents are initialized identically for both the White and the Grey pool and then work their way through on each side according to the testcase. Afterwards the effects on both sides can be compared.\n",
    "\n",
    "## Policies and mechanisms\n",
    "\n",
    "### Assumptions\n",
    "As the liquidity in the grey pool will develop different to the white pool as trading patterns in teh 2 pools differ, arbitrage opportunities will develop between them. So we need to model the dynamics of both pools for arbitrage opportunities.\n",
    "\n",
    "KYC-agents are somehow restricted in the white pool in that they have to identifiable, whereas in the grey pool they can remain pseudonymous.\n",
    "\n",
    "Liquidity Provider (LP) policy 1\n",
    "   - Let R be the maximum reserve pool that with a daily volume V, Fee F will meet LP annual yield requirement Y, then an LP agent will add/remove liquidity L to either pool based on whether threshold V * 365 * F / R > Y is satisfied.\n",
    "Must be articulated as 2 policies – one, the liquidity provider agent adds liquidity, the other – liquidity remover, removes liquidity when condition is not met\n",
    "\n",
    "Liquidity Provider policy 2\n",
    "   - Every trade incurs a fee of 0,3 pct. This fee is added to the pool as minted UNI tokens, thus increasing “k” in the x*y=k CPMM.\n",
    "   - Upon an LP wishing to remove liquidity, the relative share of fees earned during the time when providing liquidity are then burnt and distributed to the LP, who is removing liquidity.\n",
    "   - So, we need a function to distribute evenly to LPs the relatively earned UNI (as a function of all UNI in the pool accumulated continuously) when removing liquidity. The fee would then be the sum over time (t) of 0,3% * V_t * RLP_t / Rtotal_t, where RLP is the LP share of the total reserve of liquidity in the pool, Rtotal  ie the relative share of the pool that earns the fees.\n",
    "\n",
    "Trader agent policy:\n",
    "   - White pool – lognormal distribution (always positive number), mean trade size 1 ETH fitted with 5 standard deviations, but minimum 0,04ETH. If possible split orders with same frequency as others if slippage is more than 2 pct, trade frequency 15 trades per minute fitted with 2 standard deviations, timing tbd so trade 24/7 but allow for parametrization.\n",
    "   - Grey pool – lognormal distribution, mean trade 10 ETH fitted with 5 standard deviations, again minimum 0,04 ETH, if possible split orders with same frequency as others if slippage is more than 2 pct, trade frequency 2 trades per minute with 2 standard deviations, trading 2, timing tbd so trade 24/7 but allow for parametrization.\n",
    "\n",
    "## Model File Structure\n",
    "\n",
    "![](https://user-images.githubusercontent.com/70016702/136395115-be8643e2-6038-4a34-8b60-dd5e76095d41.png)"
   ]
  },
  {
   "cell_type": "code",
   "execution_count": 1,
   "metadata": {},
   "outputs": [
    {
     "name": "stdout",
     "output_type": "stream",
     "text": [
      "Requirement already satisfied: radcad in /Users/marc/.local/lib/python3.8/site-packages (0.8.4)\n",
      "Requirement already satisfied: pathos<0.3.0,>=0.2.7 in /Users/marc/.local/lib/python3.8/site-packages (from radcad) (0.2.8)\n",
      "Requirement already satisfied: pandas<2.0.0,>=1.0.0 in /Users/marc/conda/envs/rlcadenv/lib/python3.8/site-packages (from radcad) (1.2.3)\n",
      "Requirement already satisfied: python-dateutil>=2.7.3 in /Users/marc/conda/envs/rlcadenv/lib/python3.8/site-packages (from pandas<2.0.0,>=1.0.0->radcad) (2.8.1)\n",
      "Requirement already satisfied: pytz>=2017.3 in /Users/marc/conda/envs/rlcadenv/lib/python3.8/site-packages (from pandas<2.0.0,>=1.0.0->radcad) (2021.1)\n",
      "Requirement already satisfied: numpy>=1.16.5 in /Users/marc/conda/envs/rlcadenv/lib/python3.8/site-packages (from pandas<2.0.0,>=1.0.0->radcad) (1.19.2)\n",
      "Requirement already satisfied: pox>=0.3.0 in /Users/marc/.local/lib/python3.8/site-packages (from pathos<0.3.0,>=0.2.7->radcad) (0.3.0)\n",
      "Requirement already satisfied: multiprocess>=0.70.12 in /Users/marc/.local/lib/python3.8/site-packages (from pathos<0.3.0,>=0.2.7->radcad) (0.70.12.2)\n",
      "Requirement already satisfied: dill>=0.3.4 in /Users/marc/.local/lib/python3.8/site-packages (from pathos<0.3.0,>=0.2.7->radcad) (0.3.4)\n",
      "Requirement already satisfied: ppft>=1.6.6.4 in /Users/marc/.local/lib/python3.8/site-packages (from pathos<0.3.0,>=0.2.7->radcad) (1.6.6.4)\n",
      "Requirement already satisfied: six>=1.7.3 in /Users/marc/conda/envs/rlcadenv/lib/python3.8/site-packages (from ppft>=1.6.6.4->pathos<0.3.0,>=0.2.7->radcad) (1.15.0)\n",
      "Requirement already satisfied: matplotlib in /Users/marc/conda/envs/rlcadenv/lib/python3.8/site-packages (3.3.4)\n",
      "Requirement already satisfied: numpy>=1.15 in /Users/marc/conda/envs/rlcadenv/lib/python3.8/site-packages (from matplotlib) (1.19.2)\n",
      "Requirement already satisfied: kiwisolver>=1.0.1 in /Users/marc/conda/envs/rlcadenv/lib/python3.8/site-packages (from matplotlib) (1.3.1)\n",
      "Requirement already satisfied: python-dateutil>=2.1 in /Users/marc/conda/envs/rlcadenv/lib/python3.8/site-packages (from matplotlib) (2.8.1)\n",
      "Requirement already satisfied: cycler>=0.10 in /Users/marc/conda/envs/rlcadenv/lib/python3.8/site-packages (from matplotlib) (0.10.0)\n",
      "Requirement already satisfied: pillow>=6.2.0 in /Users/marc/conda/envs/rlcadenv/lib/python3.8/site-packages (from matplotlib) (7.2.0)\n",
      "Requirement already satisfied: pyparsing!=2.0.4,!=2.1.2,!=2.1.6,>=2.0.3 in /Users/marc/conda/envs/rlcadenv/lib/python3.8/site-packages (from matplotlib) (2.4.7)\n",
      "Requirement already satisfied: six in /Users/marc/conda/envs/rlcadenv/lib/python3.8/site-packages (from cycler>=0.10->matplotlib) (1.15.0)\n",
      "Requirement already satisfied: enforce_typing in /Users/marc/.local/lib/python3.8/site-packages (1.0.0.post1)\n",
      "Requirement already satisfied: eth_account in /Users/marc/.local/lib/python3.8/site-packages (0.5.6)\n",
      "Requirement already satisfied: hexbytes<1,>=0.1.0 in /Users/marc/.local/lib/python3.8/site-packages (from eth_account) (0.2.2)\n",
      "Requirement already satisfied: eth-utils<2,>=1.3.0 in /Users/marc/.local/lib/python3.8/site-packages (from eth_account) (1.10.0)\n",
      "Requirement already satisfied: eth-rlp<2,>=0.1.2 in /Users/marc/.local/lib/python3.8/site-packages (from eth_account) (0.2.1)\n",
      "Requirement already satisfied: rlp<3,>=1.0.0 in /Users/marc/.local/lib/python3.8/site-packages (from eth_account) (2.0.1)\n",
      "Requirement already satisfied: eth-keys!=0.3.2,<0.4.0,>=0.2.1 in /Users/marc/.local/lib/python3.8/site-packages (from eth_account) (0.3.3)\n",
      "Requirement already satisfied: bitarray<1.3.0,>=1.2.1 in /Users/marc/.local/lib/python3.8/site-packages (from eth_account) (1.2.2)\n",
      "Requirement already satisfied: eth-keyfile<0.6.0,>=0.5.0 in /Users/marc/.local/lib/python3.8/site-packages (from eth_account) (0.5.1)\n",
      "Requirement already satisfied: eth-abi<3,>=2.0.0b7 in /Users/marc/.local/lib/python3.8/site-packages (from eth_account) (2.1.1)\n",
      "Requirement already satisfied: parsimonious<0.9.0,>=0.8.0 in /Users/marc/.local/lib/python3.8/site-packages (from eth-abi<3,>=2.0.0b7->eth_account) (0.8.1)\n",
      "Requirement already satisfied: eth-typing<3.0.0,>=2.0.0 in /Users/marc/.local/lib/python3.8/site-packages (from eth-abi<3,>=2.0.0b7->eth_account) (2.2.2)\n",
      "Requirement already satisfied: cytoolz<1.0.0,>=0.9.0 in /Users/marc/.local/lib/python3.8/site-packages (from eth-keyfile<0.6.0,>=0.5.0->eth_account) (0.11.0)\n",
      "Requirement already satisfied: pycryptodome<4.0.0,>=3.4.7 in /Users/marc/.local/lib/python3.8/site-packages (from eth-keyfile<0.6.0,>=0.5.0->eth_account) (3.11.0)\n",
      "Requirement already satisfied: toolz>=0.8.0 in /Users/marc/.local/lib/python3.8/site-packages (from cytoolz<1.0.0,>=0.9.0->eth-keyfile<0.6.0,>=0.5.0->eth_account) (0.11.1)\n",
      "Requirement already satisfied: eth-hash<0.4.0,>=0.3.1 in /Users/marc/.local/lib/python3.8/site-packages (from eth-utils<2,>=1.3.0->eth_account) (0.3.2)\n",
      "Requirement already satisfied: six>=1.9.0 in /Users/marc/conda/envs/rlcadenv/lib/python3.8/site-packages (from parsimonious<0.9.0,>=0.8.0->eth-abi<3,>=2.0.0b7->eth_account) (1.15.0)\n",
      "Requirement already satisfied: web3 in /Users/marc/.local/lib/python3.8/site-packages (5.24.0)\n",
      "Requirement already satisfied: eth-typing<3.0.0,>=2.0.0 in /Users/marc/.local/lib/python3.8/site-packages (from web3) (2.2.2)\n",
      "Requirement already satisfied: ipfshttpclient==0.8.0a2 in /Users/marc/.local/lib/python3.8/site-packages (from web3) (0.8.0a2)\n",
      "Requirement already satisfied: eth-hash[pycryptodome]<1.0.0,>=0.2.0 in /Users/marc/.local/lib/python3.8/site-packages (from web3) (0.3.2)\n",
      "Requirement already satisfied: jsonschema<4.0.0,>=3.2.0 in /Users/marc/conda/envs/rlcadenv/lib/python3.8/site-packages (from web3) (3.2.0)\n",
      "Requirement already satisfied: hexbytes<1.0.0,>=0.1.0 in /Users/marc/.local/lib/python3.8/site-packages (from web3) (0.2.2)\n",
      "Requirement already satisfied: aiohttp<4,>=3.7.4.post0 in /Users/marc/.local/lib/python3.8/site-packages (from web3) (3.7.4.post0)\n",
      "Requirement already satisfied: eth-abi<3.0.0,>=2.0.0b6 in /Users/marc/.local/lib/python3.8/site-packages (from web3) (2.1.1)\n",
      "Requirement already satisfied: requests<3.0.0,>=2.16.0 in /Users/marc/conda/envs/rlcadenv/lib/python3.8/site-packages (from web3) (2.25.1)\n",
      "Requirement already satisfied: websockets<10,>=9.1 in /Users/marc/.local/lib/python3.8/site-packages (from web3) (9.1)\n",
      "Requirement already satisfied: protobuf<4,>=3.10.0 in /Users/marc/.local/lib/python3.8/site-packages (from web3) (3.18.1)\n",
      "Requirement already satisfied: lru-dict<2.0.0,>=1.1.6 in /Users/marc/.local/lib/python3.8/site-packages (from web3) (1.1.7)\n",
      "Requirement already satisfied: eth-utils<2.0.0,>=1.9.5 in /Users/marc/.local/lib/python3.8/site-packages (from web3) (1.10.0)\n",
      "Requirement already satisfied: eth-account<0.6.0,>=0.5.6 in /Users/marc/.local/lib/python3.8/site-packages (from web3) (0.5.6)\n",
      "Requirement already satisfied: multiaddr>=0.0.7 in /Users/marc/.local/lib/python3.8/site-packages (from ipfshttpclient==0.8.0a2->web3) (0.0.9)\n",
      "Requirement already satisfied: multidict<7.0,>=4.5 in /Users/marc/.local/lib/python3.8/site-packages (from aiohttp<4,>=3.7.4.post0->web3) (5.2.0)\n",
      "Requirement already satisfied: attrs>=17.3.0 in /Users/marc/conda/envs/rlcadenv/lib/python3.8/site-packages (from aiohttp<4,>=3.7.4.post0->web3) (20.3.0)\n",
      "Requirement already satisfied: chardet<5.0,>=2.0 in /Users/marc/conda/envs/rlcadenv/lib/python3.8/site-packages (from aiohttp<4,>=3.7.4.post0->web3) (4.0.0)\n",
      "Requirement already satisfied: typing-extensions>=3.6.5 in /Users/marc/.local/lib/python3.8/site-packages (from aiohttp<4,>=3.7.4.post0->web3) (3.10.0.2)\n",
      "Requirement already satisfied: async-timeout<4.0,>=3.0 in /Users/marc/.local/lib/python3.8/site-packages (from aiohttp<4,>=3.7.4.post0->web3) (3.0.1)\n",
      "Requirement already satisfied: yarl<2.0,>=1.0 in /Users/marc/.local/lib/python3.8/site-packages (from aiohttp<4,>=3.7.4.post0->web3) (1.7.0)\n",
      "Requirement already satisfied: parsimonious<0.9.0,>=0.8.0 in /Users/marc/.local/lib/python3.8/site-packages (from eth-abi<3.0.0,>=2.0.0b6->web3) (0.8.1)\n",
      "Requirement already satisfied: eth-keys!=0.3.2,<0.4.0,>=0.2.1 in /Users/marc/.local/lib/python3.8/site-packages (from eth-account<0.6.0,>=0.5.6->web3) (0.3.3)\n",
      "Requirement already satisfied: eth-rlp<2,>=0.1.2 in /Users/marc/.local/lib/python3.8/site-packages (from eth-account<0.6.0,>=0.5.6->web3) (0.2.1)\n",
      "Requirement already satisfied: rlp<3,>=1.0.0 in /Users/marc/.local/lib/python3.8/site-packages (from eth-account<0.6.0,>=0.5.6->web3) (2.0.1)\n",
      "Requirement already satisfied: bitarray<1.3.0,>=1.2.1 in /Users/marc/.local/lib/python3.8/site-packages (from eth-account<0.6.0,>=0.5.6->web3) (1.2.2)\n",
      "Requirement already satisfied: eth-keyfile<0.6.0,>=0.5.0 in /Users/marc/.local/lib/python3.8/site-packages (from eth-account<0.6.0,>=0.5.6->web3) (0.5.1)\n",
      "Requirement already satisfied: pycryptodome<4,>=3.6.6 in /Users/marc/.local/lib/python3.8/site-packages (from eth-hash[pycryptodome]<1.0.0,>=0.2.0->web3) (3.11.0)\n",
      "Requirement already satisfied: cytoolz<1.0.0,>=0.9.0 in /Users/marc/.local/lib/python3.8/site-packages (from eth-keyfile<0.6.0,>=0.5.0->eth-account<0.6.0,>=0.5.6->web3) (0.11.0)\n",
      "Requirement already satisfied: toolz>=0.8.0 in /Users/marc/.local/lib/python3.8/site-packages (from cytoolz<1.0.0,>=0.9.0->eth-keyfile<0.6.0,>=0.5.0->eth-account<0.6.0,>=0.5.6->web3) (0.11.1)\n",
      "Requirement already satisfied: pyrsistent>=0.14.0 in /Users/marc/conda/envs/rlcadenv/lib/python3.8/site-packages (from jsonschema<4.0.0,>=3.2.0->web3) (0.17.3)\n",
      "Requirement already satisfied: setuptools in /Users/marc/conda/envs/rlcadenv/lib/python3.8/site-packages (from jsonschema<4.0.0,>=3.2.0->web3) (52.0.0.post20210125)\n",
      "Requirement already satisfied: six>=1.11.0 in /Users/marc/conda/envs/rlcadenv/lib/python3.8/site-packages (from jsonschema<4.0.0,>=3.2.0->web3) (1.15.0)\n",
      "Requirement already satisfied: varint in /Users/marc/.local/lib/python3.8/site-packages (from multiaddr>=0.0.7->ipfshttpclient==0.8.0a2->web3) (1.0.2)\n",
      "Requirement already satisfied: netaddr in /Users/marc/.local/lib/python3.8/site-packages (from multiaddr>=0.0.7->ipfshttpclient==0.8.0a2->web3) (0.8.0)\n",
      "Requirement already satisfied: base58 in /Users/marc/.local/lib/python3.8/site-packages (from multiaddr>=0.0.7->ipfshttpclient==0.8.0a2->web3) (2.1.0)\n",
      "Requirement already satisfied: urllib3<1.27,>=1.21.1 in /Users/marc/conda/envs/rlcadenv/lib/python3.8/site-packages (from requests<3.0.0,>=2.16.0->web3) (1.26.3)\n",
      "Requirement already satisfied: certifi>=2017.4.17 in /Users/marc/conda/envs/rlcadenv/lib/python3.8/site-packages (from requests<3.0.0,>=2.16.0->web3) (2021.10.8)\n",
      "Requirement already satisfied: idna<3,>=2.5 in /Users/marc/conda/envs/rlcadenv/lib/python3.8/site-packages (from requests<3.0.0,>=2.16.0->web3) (2.10)\n",
      "Requirement already satisfied: names in /Users/marc/.local/lib/python3.8/site-packages (0.3.0)\n"
     ]
    }
   ],
   "source": [
    "!pip install radcad\n",
    "!pip install matplotlib\n",
    "!pip install enforce_typing\n",
    "!pip install eth_account\n",
    "!pip install web3\n",
    "!pip install names"
   ]
  },
  {
   "cell_type": "markdown",
   "metadata": {},
   "source": [
    "## Run Model\n",
    "\n"
   ]
  },
  {
   "cell_type": "code",
   "execution_count": 2,
   "metadata": {
    "tags": []
   },
   "outputs": [],
   "source": [
    "# Dependences\n",
    "import pandas as pd\n",
    "import numpy as np\n",
    "import matplotlib.pyplot as plt\n",
    "import enforce_typing\n",
    "\n",
    "# Experiments\n",
    "from radcad import Model, Simulation, Experiment\n",
    "from radcad.engine import Engine, Backend\n",
    "\n",
    "# from model import run\n",
    "from model.parts.utils import *\n",
    "\n",
    "pd.options.display.float_format = '{:.2f}'.format\n",
    "\n",
    "%matplotlib inline\n",
    "\n",
    "#df = run.run()\n",
    "#rdf = run.postprocessing(df)\n",
    "# rdf = df # debugging substeps\n"
   ]
  },
  {
   "cell_type": "code",
   "execution_count": 3,
   "metadata": {},
   "outputs": [
    {
     "name": "stdout",
     "output_type": "stream",
     "text": [
      "PoolAgent={name=White Pool, _abc_impl=<_abc_data object at 0x7f84f86bb3c0>, _pool=UniswapPool:\n",
      "  name = White pool\n",
      "  swapFee = 0.30%\n",
      "  currentTokens (as symbols) = USDC, ETH\n",
      "  Pair:\n",
      "  balances:\n",
      "    USDC: 200000\n",
      "    ETH: 100\n",
      "    UNI-V2: 4472.13595499958, _wallet=AgentWallet={USD=$0.00; ETH=0.000000 /AgentWallet}, pool=UniswapPool:\n",
      "  name = White pool\n",
      "  swapFee = 0.30%\n",
      "  currentTokens (as symbols) = USDC, ETH\n",
      "  Pair:\n",
      "  balances:\n",
      "    USDC: 200000\n",
      "    ETH: 100\n",
      "    UNI-V2: 4472.13595499958 /PoolAgent}\n",
      "PoolAgent={name=Grey Pool, _abc_impl=<_abc_data object at 0x7f84f86bb3c0>, _pool=UniswapPool:\n",
      "  name = Grey pool\n",
      "  swapFee = 0.30%\n",
      "  currentTokens (as symbols) = USDC, ETH\n",
      "  Pair:\n",
      "  balances:\n",
      "    USDC: 3000000\n",
      "    ETH: 1500\n",
      "    UNI-V2: 67082.03932499369, _wallet=AgentWallet={USD=$0.00; ETH=0.000000 /AgentWallet}, pool=UniswapPool:\n",
      "  name = Grey pool\n",
      "  swapFee = 0.30%\n",
      "  currentTokens (as symbols) = USDC, ETH\n",
      "  Pair:\n",
      "  balances:\n",
      "    USDC: 3000000\n",
      "    ETH: 1500\n",
      "    UNI-V2: 67082.03932499369 /PoolAgent}\n",
      "TradeAgent={_s_between_trade=600, _s_since_trade=0, name=Trader Connie, tradeDone=False, _abc_impl=<_abc_data object at 0x7f84c83e64e0>, _wallet=AgentWallet={USD=$100,000.00; ETH=500.000000 /AgentWallet}, tradeResult=(None, None) /TradeAgent}\n",
      "TradeAgent={_s_between_trade=600, _s_since_trade=0, name=Trader Roger, tradeDone=False, _abc_impl=<_abc_data object at 0x7f84c83e64e0>, _wallet=AgentWallet={USD=$100,000.00; ETH=500.000000 /AgentWallet}, tradeResult=(None, None) /TradeAgent}\n",
      "TradeAgent={_s_between_trade=600, _s_since_trade=0, name=Trader Connie, tradeDone=False, _abc_impl=<_abc_data object at 0x7f84c83e64e0>, _wallet=AgentWallet={USD=$100,000.00; ETH=500.000000 /AgentWallet}, tradeResult=(None, None) /TradeAgent}\n",
      "TradeAgent={_s_between_trade=600, _s_since_trade=0, name=Trader Paul, tradeDone=False, _abc_impl=<_abc_data object at 0x7f84c83e64e0>, _wallet=AgentWallet={USD=$100,000.00; ETH=500.000000 /AgentWallet}, tradeResult=(None, None) /TradeAgent}\n",
      "TradeAgent={_s_between_trade=600, _s_since_trade=0, name=Trader Eric, tradeDone=False, _abc_impl=<_abc_data object at 0x7f84c83e64e0>, _wallet=AgentWallet={USD=$100,000.00; ETH=500.000000 /AgentWallet}, tradeResult=(None, None) /TradeAgent}\n",
      "TradeAgent={_s_between_trade=600, _s_since_trade=0, name=Trader Chan, tradeDone=False, _abc_impl=<_abc_data object at 0x7f84c83e64e0>, _wallet=AgentWallet={USD=$100,000.00; ETH=500.000000 /AgentWallet}, tradeResult=(None, None) /TradeAgent}\n",
      "TradeAgent={_s_between_trade=600, _s_since_trade=0, name=Trader Tracy, tradeDone=False, _abc_impl=<_abc_data object at 0x7f84c83e64e0>, _wallet=AgentWallet={USD=$100,000.00; ETH=500.000000 /AgentWallet}, tradeResult=(None, None) /TradeAgent}\n",
      "TradeAgent={_s_between_trade=600, _s_since_trade=0, name=Trader Christopher, tradeDone=False, _abc_impl=<_abc_data object at 0x7f84c83e64e0>, _wallet=AgentWallet={USD=$100,000.00; ETH=500.000000 /AgentWallet}, tradeResult=(None, None) /TradeAgent}\n",
      "TradeAgent={_s_between_trade=600, _s_since_trade=0, name=Trader Lynn, tradeDone=False, _abc_impl=<_abc_data object at 0x7f84c83e64e0>, _wallet=AgentWallet={USD=$100,000.00; ETH=500.000000 /AgentWallet}, tradeResult=(None, None) /TradeAgent}\n",
      "TradeAgent={_s_between_trade=600, _s_since_trade=0, name=Trader Darlene, tradeDone=False, _abc_impl=<_abc_data object at 0x7f84c83e64e0>, _wallet=AgentWallet={USD=$100,000.00; ETH=500.000000 /AgentWallet}, tradeResult=(None, None) /TradeAgent}\n",
      "TradeAgent={_s_between_trade=600, _s_since_trade=0, name=Trader Eva, tradeDone=False, _abc_impl=<_abc_data object at 0x7f84c83e64e0>, _wallet=AgentWallet={USD=$100,000.00; ETH=500.000000 /AgentWallet}, tradeResult=(None, None) /TradeAgent}\n",
      "TradeAgent={_s_between_trade=600, _s_since_trade=0, name=Trader Jack, tradeDone=False, _abc_impl=<_abc_data object at 0x7f84c83e64e0>, _wallet=AgentWallet={USD=$100,000.00; ETH=500.000000 /AgentWallet}, tradeResult=(None, None) /TradeAgent}\n",
      "TradeAgent={_s_between_trade=600, _s_since_trade=0, name=Trader Micha, tradeDone=False, _abc_impl=<_abc_data object at 0x7f84c83e64e0>, _wallet=AgentWallet={USD=$100,000.00; ETH=500.000000 /AgentWallet}, tradeResult=(None, None) /TradeAgent}\n",
      "TradeAgent={_s_between_trade=600, _s_since_trade=0, name=Trader Mark, tradeDone=False, _abc_impl=<_abc_data object at 0x7f84c83e64e0>, _wallet=AgentWallet={USD=$100,000.00; ETH=500.000000 /AgentWallet}, tradeResult=(None, None) /TradeAgent}\n",
      "TradeAgent={_s_between_trade=600, _s_since_trade=0, name=Trader Moses, tradeDone=False, _abc_impl=<_abc_data object at 0x7f84c83e64e0>, _wallet=AgentWallet={USD=$100,000.00; ETH=500.000000 /AgentWallet}, tradeResult=(None, None) /TradeAgent}\n",
      "TradeAgent={_s_between_trade=600, _s_since_trade=0, name=Trader Milton, tradeDone=False, _abc_impl=<_abc_data object at 0x7f84c83e64e0>, _wallet=AgentWallet={USD=$100,000.00; ETH=500.000000 /AgentWallet}, tradeResult=(None, None) /TradeAgent}\n",
      "TradeAgent={_s_between_trade=600, _s_since_trade=0, name=Trader Beatrice, tradeDone=False, _abc_impl=<_abc_data object at 0x7f84c83e64e0>, _wallet=AgentWallet={USD=$100,000.00; ETH=500.000000 /AgentWallet}, tradeResult=(None, None) /TradeAgent}\n",
      "TradeAgent={_s_between_trade=600, _s_since_trade=0, name=Trader Karl, tradeDone=False, _abc_impl=<_abc_data object at 0x7f84c83e64e0>, _wallet=AgentWallet={USD=$100,000.00; ETH=500.000000 /AgentWallet}, tradeResult=(None, None) /TradeAgent}\n",
      "TradeAgent={_s_between_trade=600, _s_since_trade=0, name=Trader Ashley, tradeDone=False, _abc_impl=<_abc_data object at 0x7f84c83e64e0>, _wallet=AgentWallet={USD=$100,000.00; ETH=500.000000 /AgentWallet}, tradeResult=(None, None) /TradeAgent}\n",
      "TradeAgent={_s_between_trade=600, _s_since_trade=0, name=Trader Frances, tradeDone=False, _abc_impl=<_abc_data object at 0x7f84c83e64e0>, _wallet=AgentWallet={USD=$100,000.00; ETH=500.000000 /AgentWallet}, tradeResult=(None, None) /TradeAgent}\n",
      "LiquidityProviderAgent={_s_between_lp=27, _s_since_lp=0, lpDone=False, name=Liquidity Provider Theresa, roi=0.19, treshold=1000, _abc_impl=<_abc_data object at 0x7f84f86bbb40>, _wallet=AgentWallet={USD=$200,000.00; ETH=1000.000000 /AgentWallet}, liquidityToken=dict={'White Pool':TokenAmount - \n",
      "UNI-V2: 0.0, 'Grey Pool':TokenAmount - \n",
      "UNI-V2: 0.0 /dict}, lpResult=(None, None) /LiquidityProviderAgent}\n",
      "LiquidityProviderAgent={_s_between_lp=20, _s_since_lp=0, lpDone=False, name=Liquidity Provider Blanche, roi=0.13, treshold=1000, _abc_impl=<_abc_data object at 0x7f84f86bbb40>, _wallet=AgentWallet={USD=$200,000.00; ETH=1000.000000 /AgentWallet}, liquidityToken=dict={'White Pool':TokenAmount - \n",
      "UNI-V2: 0.0, 'Grey Pool':TokenAmount - \n",
      "UNI-V2: 0.0 /dict}, lpResult=(None, None) /LiquidityProviderAgent}\n",
      "LiquidityProviderAgent={_s_between_lp=21, _s_since_lp=0, lpDone=False, name=Liquidity Provider Cara, roi=0.1, treshold=1000, _abc_impl=<_abc_data object at 0x7f84f86bbb40>, _wallet=AgentWallet={USD=$200,000.00; ETH=1000.000000 /AgentWallet}, liquidityToken=dict={'White Pool':TokenAmount - \n",
      "UNI-V2: 0.0, 'Grey Pool':TokenAmount - \n",
      "UNI-V2: 0.0 /dict}, lpResult=(None, None) /LiquidityProviderAgent}\n",
      "LiquidityProviderAgent={_s_between_lp=24, _s_since_lp=0, lpDone=False, name=Liquidity Provider Michael, roi=0.14, treshold=1000, _abc_impl=<_abc_data object at 0x7f84f86bbb40>, _wallet=AgentWallet={USD=$200,000.00; ETH=1000.000000 /AgentWallet}, liquidityToken=dict={'White Pool':TokenAmount - \n",
      "UNI-V2: 0.0, 'Grey Pool':TokenAmount - \n",
      "UNI-V2: 0.0 /dict}, lpResult=(None, None) /LiquidityProviderAgent}\n",
      "LiquidityProviderAgent={_s_between_lp=23, _s_since_lp=0, lpDone=False, name=Liquidity Provider Mary, roi=0.17, treshold=1000, _abc_impl=<_abc_data object at 0x7f84f86bbb40>, _wallet=AgentWallet={USD=$200,000.00; ETH=1000.000000 /AgentWallet}, liquidityToken=dict={'White Pool':TokenAmount - \n",
      "UNI-V2: 0.0, 'Grey Pool':TokenAmount - \n",
      "UNI-V2: 0.0 /dict}, lpResult=(None, None) /LiquidityProviderAgent}\n",
      "LiquidityProviderAgent={_s_between_lp=27, _s_since_lp=0, lpDone=False, name=Liquidity Provider Nicholas, roi=0.11, treshold=1000, _abc_impl=<_abc_data object at 0x7f84f86bbb40>, _wallet=AgentWallet={USD=$200,000.00; ETH=1000.000000 /AgentWallet}, liquidityToken=dict={'White Pool':TokenAmount - \n",
      "UNI-V2: 0.0, 'Grey Pool':TokenAmount - \n",
      "UNI-V2: 0.0 /dict}, lpResult=(None, None) /LiquidityProviderAgent}\n",
      "LiquidityProviderAgent={_s_between_lp=25, _s_since_lp=0, lpDone=False, name=Liquidity Provider Dane, roi=0.1, treshold=1000, _abc_impl=<_abc_data object at 0x7f84f86bbb40>, _wallet=AgentWallet={USD=$200,000.00; ETH=1000.000000 /AgentWallet}, liquidityToken=dict={'White Pool':TokenAmount - \n",
      "UNI-V2: 0.0, 'Grey Pool':TokenAmount - \n",
      "UNI-V2: 0.0 /dict}, lpResult=(None, None) /LiquidityProviderAgent}\n",
      "LiquidityProviderAgent={_s_between_lp=28, _s_since_lp=0, lpDone=False, name=Liquidity Provider Iris, roi=0.15, treshold=1000, _abc_impl=<_abc_data object at 0x7f84f86bbb40>, _wallet=AgentWallet={USD=$200,000.00; ETH=1000.000000 /AgentWallet}, liquidityToken=dict={'White Pool':TokenAmount - \n",
      "UNI-V2: 0.0, 'Grey Pool':TokenAmount - \n",
      "UNI-V2: 0.0 /dict}, lpResult=(None, None) /LiquidityProviderAgent}\n",
      "LiquidityProviderAgent={_s_between_lp=21, _s_since_lp=0, lpDone=False, name=Liquidity Provider Karon, roi=0.16, treshold=1000, _abc_impl=<_abc_data object at 0x7f84f86bbb40>, _wallet=AgentWallet={USD=$200,000.00; ETH=1000.000000 /AgentWallet}, liquidityToken=dict={'White Pool':TokenAmount - \n",
      "UNI-V2: 0.0, 'Grey Pool':TokenAmount - \n",
      "UNI-V2: 0.0 /dict}, lpResult=(None, None) /LiquidityProviderAgent}\n",
      "LiquidityProviderAgent={_s_between_lp=27, _s_since_lp=0, lpDone=False, name=Liquidity Provider Brenda, roi=0.14, treshold=1000, _abc_impl=<_abc_data object at 0x7f84f86bbb40>, _wallet=AgentWallet={USD=$200,000.00; ETH=1000.000000 /AgentWallet}, liquidityToken=dict={'White Pool':TokenAmount - \n",
      "UNI-V2: 0.0, 'Grey Pool':TokenAmount - \n",
      "UNI-V2: 0.0 /dict}, lpResult=(None, None) /LiquidityProviderAgent}\n",
      "running file: sim_setup.py\n",
      "SIMULATION_TIME_STEPS:  1000\n",
      "MONTE_CARLO_RUNS:  1\n",
      "end of file: sim_setup.py\n"
     ]
    }
   ],
   "source": [
    "from model.state_variables import initial_state\n",
    "from model.partial_state_update_block import partial_state_update_block\n",
    "from model.sim_setup import SIMULATION_TIME_STEPS, MONTE_CARLO_RUNS\n",
    "from model.sys_params import params , initial_values"
   ]
  },
  {
   "cell_type": "code",
   "execution_count": 4,
   "metadata": {},
   "outputs": [
    {
     "name": "stdout",
     "output_type": "stream",
     "text": [
      "100\n",
      "200\n",
      "300\n",
      "400\n",
      "500\n",
      "600\n",
      "Tick:  608\n",
      "(<model.parts.agents.PoolAgent.PoolAgent object at 0x7f84d8866220>, 772.4037998949794)\n",
      "Tick:  608\n",
      "(<model.parts.agents.PoolAgent.PoolAgent object at 0x7f84d8866220>, 726.9682822540983)\n",
      "Tick:  615\n",
      "(<model.parts.agents.PoolAgent.PoolAgent object at 0x7f84d8866220>, 681.5327646132172)\n",
      "Tick:  619\n",
      "(<model.parts.agents.PoolAgent.PoolAgent object at 0x7f84d8866220>, 726.9682822540984)\n",
      "Tick:  620\n",
      "(<model.parts.agents.PoolAgent.PoolAgent object at 0x7f84d8866220>, 817.8393175358606)\n",
      "Tick:  620\n",
      "(<model.parts.agents.PoolAgent.PoolAgent object at 0x7f84d8866220>, 863.2748351767418)\n",
      "Tick:  620\n",
      "(<model.parts.agents.PoolAgent.PoolAgent object at 0x7f84d8866220>, 726.9682822540983)\n",
      "Tick:  620\n",
      "(<model.parts.agents.PoolAgent.PoolAgent object at 0x7f84d8866220>, 817.8393175358605)\n",
      "Tick:  623\n",
      "(<model.parts.agents.PoolAgent.PoolAgent object at 0x7f84d8866220>, 772.4037998949794)\n",
      "Tick:  624\n",
      "(<model.parts.agents.PoolAgent.PoolAgent object at 0x7f84d8866220>, 772.4037998949794)\n",
      "Tick:  629\n",
      "(<model.parts.agents.PoolAgent.PoolAgent object at 0x7f84d8866220>, 603.3836742709016)\n",
      "Tick:  629\n",
      "(<model.parts.agents.PoolAgent.PoolAgent object at 0x7f84d8866220>, 610.6533570934425)\n",
      "Tick:  639\n",
      "(<model.parts.agents.PoolAgent.PoolAgent object at 0x7f84d8866220>, 610.6533570934425)\n",
      "Tick:  643\n",
      "(<model.parts.agents.PoolAgent.PoolAgent object at 0x7f84d8866220>, 588.8443086258195)\n",
      "Tick:  643\n",
      "(<model.parts.agents.PoolAgent.PoolAgent object at 0x7f84d8866220>, 733.7836099002303)\n",
      "Tick:  647\n",
      "(<model.parts.agents.PoolAgent.PoolAgent object at 0x7f84d8866220>, 558.856866982838)\n",
      "Tick:  647\n",
      "(<model.parts.agents.PoolAgent.PoolAgent object at 0x7f84d8866220>, 603.3836742709015)\n",
      "Tick:  647\n",
      "(<model.parts.agents.PoolAgent.PoolAgent object at 0x7f84d8866220>, 610.6533570934424)\n",
      "Tick:  647\n",
      "(<model.parts.agents.PoolAgent.PoolAgent object at 0x7f84d8866220>, 707.8853648449281)\n",
      "Tick:  649\n",
      "(<model.parts.agents.PoolAgent.PoolAgent object at 0x7f84d8866220>, 641.0951539128328)\n",
      "Tick:  650\n",
      "(<model.parts.agents.PoolAgent.PoolAgent object at 0x7f84d8866220>, 601.8752150852241)\n",
      "Tick:  650\n",
      "(<model.parts.agents.PoolAgent.PoolAgent object at 0x7f84d8866220>, 480.8895187110858)\n",
      "Tick:  659\n",
      "(<model.parts.agents.PoolAgent.PoolAgent object at 0x7f84d8866220>, 480.8895187110859)\n",
      "Tick:  666\n",
      "(<model.parts.agents.PoolAgent.PoolAgent object at 0x7f84d8866220>, 463.71489304283284)\n",
      "Tick:  671\n",
      "(<model.parts.agents.PoolAgent.PoolAgent object at 0x7f84d8866220>, 410.5422519739214)\n",
      "Tick:  671\n",
      "(<model.parts.agents.PoolAgent.PoolAgent object at 0x7f84d8866220>, 601.8752150852242)\n",
      "Tick:  671\n",
      "(<model.parts.agents.PoolAgent.PoolAgent object at 0x7f84d8866220>, 531.8000162276932)\n",
      "Tick:  671\n",
      "(<model.parts.agents.PoolAgent.PoolAgent object at 0x7f84d8866220>, 408.75609090442293)\n",
      "Tick:  674\n",
      "(<model.parts.agents.PoolAgent.PoolAgent object at 0x7f84d8866220>, 601.7025601181889)\n",
      "Tick:  674\n",
      "(<model.parts.agents.PoolAgent.PoolAgent object at 0x7f84d8866220>, 545.0081212058975)\n",
      "Tick:  674\n",
      "(<model.parts.agents.PoolAgent.PoolAgent object at 0x7f84d8866220>, 563.4095058504544)\n",
      "Tick:  674\n",
      "(<model.parts.agents.PoolAgent.PoolAgent object at 0x7f84d8866220>, 543.2088747073186)\n",
      "Tick:  679\n",
      "(<model.parts.agents.PoolAgent.PoolAgent object at 0x7f84d8866220>, 463.25690302501283)\n",
      "Tick:  689\n",
      "(<model.parts.agents.PoolAgent.PoolAgent object at 0x7f84d8866220>, 499.26636817611677)\n",
      "Tick:  692\n",
      "(<model.parts.agents.PoolAgent.PoolAgent object at 0x7f84d8866220>, 344.855491658094)\n",
      "Tick:  692\n",
      "(<model.parts.agents.PoolAgent.PoolAgent object at 0x7f84d8866220>, 347.44267726875955)\n",
      "Tick:  695\n",
      "(<model.parts.agents.PoolAgent.PoolAgent object at 0x7f84d8866220>, 410.54225197392134)\n",
      "Tick:  699\n",
      "(<model.parts.agents.PoolAgent.PoolAgent object at 0x7f84d8866220>, 429.7389035708502)\n",
      "Tick:  699\n",
      "(<model.parts.agents.PoolAgent.PoolAgent object at 0x7f84d8866220>, 487.66222784167104)\n",
      "Tick:  699\n",
      "(<model.parts.agents.PoolAgent.PoolAgent object at 0x7f84d8866220>, 415.42965973551577)\n",
      "700\n",
      "Tick:  701\n",
      "(<model.parts.agents.PoolAgent.PoolAgent object at 0x7f84d8866220>, 487.3790736957331)\n",
      "Tick:  701\n",
      "(<model.parts.agents.PoolAgent.PoolAgent object at 0x7f84d8866220>, 425.74752056554814)\n",
      "Tick:  701\n",
      "(<model.parts.agents.PoolAgent.PoolAgent object at 0x7f84d8866220>, 420.68509519000116)\n",
      "Tick:  712\n",
      "(<model.parts.agents.PoolAgent.PoolAgent object at 0x7f84d8866220>, 383.12124463198853)\n",
      "Tick:  713\n",
      "(<model.parts.agents.PoolAgent.PoolAgent object at 0x7f84d8866220>, 343.99335292894875)\n",
      "Tick:  713\n",
      "(<model.parts.agents.PoolAgent.PoolAgent object at 0x7f84d8866220>, 334.7031124355718)\n",
      "Tick:  719\n",
      "(<model.parts.agents.PoolAgent.PoolAgent object at 0x7f84d8866220>, 293.1271679093799)\n",
      "Tick:  719\n",
      "(<model.parts.agents.PoolAgent.PoolAgent object at 0x7f84d8866220>, 366.4089598867248)\n",
      "Tick:  724\n",
      "(<model.parts.agents.PoolAgent.PoolAgent object at 0x7f84d8866220>, 395.0064045517536)\n",
      "Tick:  727\n",
      "(<model.parts.agents.PoolAgent.PoolAgent object at 0x7f84d8866220>, 348.96091417783316)\n",
      "Tick:  728\n",
      "(<model.parts.agents.PoolAgent.PoolAgent object at 0x7f84d8866220>, 373.99931023598873)\n",
      "Tick:  728\n",
      "(<model.parts.agents.PoolAgent.PoolAgent object at 0x7f84d8866220>, 379.97966210475164)\n",
      "Tick:  728\n",
      "(<model.parts.agents.PoolAgent.PoolAgent object at 0x7f84d8866220>, 390.2472912439011)\n",
      "Tick:  734\n",
      "(<model.parts.agents.PoolAgent.PoolAgent object at 0x7f84d8866220>, 278.6346158724485)\n",
      "Tick:  734\n",
      "(<model.parts.agents.PoolAgent.PoolAgent object at 0x7f84d8866220>, 261.4621960673172)\n",
      "Tick:  735\n",
      "(<model.parts.agents.PoolAgent.PoolAgent object at 0x7f84d8866220>, 296.7061194538844)\n",
      "Tick:  739\n",
      "(<model.parts.agents.PoolAgent.PoolAgent object at 0x7f84d8866220>, 261.6159973591215)\n",
      "Tick:  743\n",
      "(<model.parts.agents.PoolAgent.PoolAgent object at 0x7f84d8866220>, 268.3406794464543)\n",
      "Tick:  749\n",
      "(<model.parts.agents.PoolAgent.PoolAgent object at 0x7f84d8866220>, 286.27569424619196)\n",
      "Tick:  755\n",
      "(<model.parts.agents.PoolAgent.PoolAgent object at 0x7f84d8866220>, 306.67943439351086)\n",
      "Tick:  755\n",
      "(<model.parts.agents.PoolAgent.PoolAgent object at 0x7f84d8866220>, 201.93677160861137)\n",
      "Tick:  755\n",
      "(<model.parts.agents.PoolAgent.PoolAgent object at 0x7f84d8866220>, 333.9350677555877)\n",
      "Tick:  755\n",
      "(<model.parts.agents.PoolAgent.PoolAgent object at 0x7f84d8866220>, 293.1271679093799)\n",
      "Tick:  755\n",
      "(<model.parts.agents.PoolAgent.PoolAgent object at 0x7f84d8866220>, 260.80854057714896)\n",
      "Tick:  755\n",
      "(<model.parts.agents.PoolAgent.PoolAgent object at 0x7f84d8866220>, 249.55287308491572)\n",
      "Tick:  758\n",
      "(<model.parts.agents.PoolAgent.PoolAgent object at 0x7f84d8866220>, 231.77983919691678)\n",
      "Tick:  759\n",
      "(<model.parts.agents.PoolAgent.PoolAgent object at 0x7f84d8866220>, 204.36826146641965)\n",
      "Tick:  767\n",
      "(<model.parts.agents.PoolAgent.PoolAgent object at 0x7f84d8866220>, 258.5015212000843)\n",
      "Tick:  774\n",
      "(<model.parts.agents.PoolAgent.PoolAgent object at 0x7f84d8866220>, 251.58581600224156)\n",
      "Tick:  776\n",
      "(<model.parts.agents.PoolAgent.PoolAgent object at 0x7f84d8866220>, 167.60752043514736)\n",
      "Tick:  776\n",
      "(<model.parts.agents.PoolAgent.PoolAgent object at 0x7f84d8866220>, 177.89887820420262)\n",
      "Tick:  779\n",
      "(<model.parts.agents.PoolAgent.PoolAgent object at 0x7f84d8866220>, 160.94000590480545)\n",
      "Tick:  781\n",
      "(<model.parts.agents.PoolAgent.PoolAgent object at 0x7f84d8866220>, 231.20038959892452)\n",
      "Tick:  782\n",
      "(<model.parts.agents.PoolAgent.PoolAgent object at 0x7f84d8866220>, 223.53523218015894)\n",
      "Tick:  782\n",
      "(<model.parts.agents.PoolAgent.PoolAgent object at 0x7f84d8866220>, 243.40156049740608)\n",
      "Tick:  782\n",
      "(<model.parts.agents.PoolAgent.PoolAgent object at 0x7f84d8866220>, 226.26127159699018)\n",
      "Tick:  783\n",
      "(<model.parts.agents.PoolAgent.PoolAgent object at 0x7f84d8866220>, 261.6159973591215)\n",
      "Tick:  791\n",
      "(<model.parts.agents.PoolAgent.PoolAgent object at 0x7f84d8866220>, 227.17721921936828)\n",
      "Tick:  797\n",
      "(<model.parts.agents.PoolAgent.PoolAgent object at 0x7f84d8866220>, 122.7478605539756)\n",
      "Tick:  797\n",
      "(<model.parts.agents.PoolAgent.PoolAgent object at 0x7f84d8866220>, 149.4350576915302)\n",
      "Tick:  799\n",
      "(<model.parts.agents.PoolAgent.PoolAgent object at 0x7f84d8866220>, 136.79900501908466)\n",
      "Tick:  799\n",
      "(<model.parts.agents.PoolAgent.PoolAgent object at 0x7f84d8866220>, 217.76150073971795)\n",
      "800\n",
      "Tick:  804\n",
      "(<model.parts.agents.PoolAgent.PoolAgent object at 0x7f84d8866220>, 167.55944025143106)\n",
      "Tick:  809\n",
      "(<model.parts.agents.PoolAgent.PoolAgent object at 0x7f84d8866220>, 199.50519472079185)\n",
      "Tick:  809\n",
      "(<model.parts.agents.PoolAgent.PoolAgent object at 0x7f84d8866220>, 242.7930565961626)\n",
      "Tick:  809\n",
      "(<model.parts.agents.PoolAgent.PoolAgent object at 0x7f84d8866220>, 213.8169016591557)\n",
      "Tick:  811\n",
      "(<model.parts.agents.PoolAgent.PoolAgent object at 0x7f84d8866220>, 242.68731049137338)\n",
      "Tick:  815\n",
      "(<model.parts.agents.PoolAgent.PoolAgent object at 0x7f84d8866220>, 175.93613532877743)\n",
      "Tick:  818\n",
      "(<model.parts.agents.PoolAgent.PoolAgent object at 0x7f84d8866220>, 118.24710566699649)\n",
      "Tick:  818\n",
      "(<model.parts.agents.PoolAgent.PoolAgent object at 0x7f84d8866220>, 133.37078898969068)\n",
      "Tick:  819\n",
      "(<model.parts.agents.PoolAgent.PoolAgent object at 0x7f84d8866220>, 147.28692873721448)\n",
      "Tick:  824\n",
      "(<model.parts.agents.PoolAgent.PoolAgent object at 0x7f84d8866220>, 157.81978237820613)\n",
      "Tick:  827\n",
      "(<model.parts.agents.PoolAgent.PoolAgent object at 0x7f84d8866220>, 155.43602192735688)\n",
      "Tick:  836\n",
      "(<model.parts.agents.PoolAgent.PoolAgent object at 0x7f84d8866220>, 146.1082161337564)\n",
      "Tick:  836\n",
      "(<model.parts.agents.PoolAgent.PoolAgent object at 0x7f84d8866220>, 165.6104217624351)\n",
      "Tick:  836\n",
      "(<model.parts.agents.PoolAgent.PoolAgent object at 0x7f84d8866220>, 175.3298593605077)\n",
      "Tick:  839\n",
      "(<model.parts.agents.PoolAgent.PoolAgent object at 0x7f84d8866220>, 113.02333794676775)\n",
      "Tick:  839\n",
      "(<model.parts.agents.PoolAgent.PoolAgent object at 0x7f84d8866220>, 103.91833874499575)\n",
      "Tick:  839\n",
      "(<model.parts.agents.PoolAgent.PoolAgent object at 0x7f84d8866220>, 163.20663847851884)\n",
      "Tick:  839\n",
      "(<model.parts.agents.PoolAgent.PoolAgent object at 0x7f84d8866220>, 165.53829178779992)\n",
      "Tick:  839\n",
      "(<model.parts.agents.PoolAgent.PoolAgent object at 0x7f84d8866220>, 97.67448958362641)\n",
      "Tick:  849\n",
      "(<model.parts.agents.PoolAgent.PoolAgent object at 0x7f84d8866220>, 115.57978180050979)\n",
      "Tick:  850\n",
      "(<model.parts.agents.PoolAgent.PoolAgent object at 0x7f84d8866220>, 106.02372864097609)\n",
      "Tick:  859\n",
      "(<model.parts.agents.PoolAgent.PoolAgent object at 0x7f84d8866220>, 92.67913711634957)\n",
      "Tick:  860\n",
      "(<model.parts.agents.PoolAgent.PoolAgent object at 0x7f84d8866220>, 85.21303777089652)\n",
      "Tick:  860\n",
      "(<model.parts.agents.PoolAgent.PoolAgent object at 0x7f84d8866220>, 88.55820388915461)\n",
      "Tick:  863\n",
      "(<model.parts.agents.PoolAgent.PoolAgent object at 0x7f84d8866220>, 132.4714492946058)\n",
      "Tick:  863\n",
      "(<model.parts.agents.PoolAgent.PoolAgent object at 0x7f84d8866220>, 125.23962047456867)\n",
      "Tick:  863\n",
      "(<model.parts.agents.PoolAgent.PoolAgent object at 0x7f84d8866220>, 156.5018485655012)\n",
      "Tick:  863\n",
      "(<model.parts.agents.PoolAgent.PoolAgent object at 0x7f84d8866220>, 135.78323552697097)\n",
      "Tick:  867\n",
      "(<model.parts.agents.PoolAgent.PoolAgent object at 0x7f84d8866220>, 156.43368573947092)\n",
      "Tick:  873\n",
      "(<model.parts.agents.PoolAgent.PoolAgent object at 0x7f84d8866220>, 89.05993205841992)\n",
      "Tick:  874\n",
      "(<model.parts.agents.PoolAgent.PoolAgent object at 0x7f84d8866220>, 111.34185646782446)\n",
      "Tick:  879\n",
      "(<model.parts.agents.PoolAgent.PoolAgent object at 0x7f84d8866220>, 80.21894201515146)\n",
      "Tick:  881\n",
      "(<model.parts.agents.PoolAgent.PoolAgent object at 0x7f84d8866220>, 62.1108364196757)\n",
      "Tick:  881\n",
      "(<model.parts.agents.PoolAgent.PoolAgent object at 0x7f84d8866220>, 88.33680837943176)\n",
      "Tick:  887\n",
      "(<model.parts.agents.PoolAgent.PoolAgent object at 0x7f84d8866220>, 96.99112830086042)\n",
      "Tick:  890\n",
      "(<model.parts.agents.PoolAgent.PoolAgent object at 0x7f84d8866220>, 118.2307684954357)\n",
      "Tick:  890\n",
      "(<model.parts.agents.PoolAgent.PoolAgent object at 0x7f84d8866220>, 121.20198716683812)\n",
      "Tick:  890\n",
      "(<model.parts.agents.PoolAgent.PoolAgent object at 0x7f84d8866220>, 106.0706686940103)\n",
      "Tick:  895\n",
      "(<model.parts.agents.PoolAgent.PoolAgent object at 0x7f84d8866220>, 121.14919884490139)\n",
      "Tick:  896\n",
      "(<model.parts.agents.PoolAgent.PoolAgent object at 0x7f84d8866220>, 70.13469649600569)\n",
      "Tick:  899\n",
      "(<model.parts.agents.PoolAgent.PoolAgent object at 0x7f84d8866220>, 54.71776255349279)\n",
      "Tick:  899\n",
      "(<model.parts.agents.PoolAgent.PoolAgent object at 0x7f84d8866220>, 81.54153606025967)\n",
      "900\n",
      "Tick:  902\n",
      "(<model.parts.agents.PoolAgent.PoolAgent object at 0x7f84d8866220>, 48.91228368049462)\n",
      "Tick:  902\n",
      "(<model.parts.agents.PoolAgent.PoolAgent object at 0x7f84d8866220>, 71.55281478733973)\n",
      "Tick:  911\n",
      "(<model.parts.agents.PoolAgent.PoolAgent object at 0x7f84d8866220>, 85.23808569499145)\n",
      "Tick:  917\n",
      "(<model.parts.agents.PoolAgent.PoolAgent object at 0x7f84d8866220>, 109.67642465723655)\n",
      "Tick:  917\n",
      "(<model.parts.agents.PoolAgent.PoolAgent object at 0x7f84d8866220>, 94.68014056327124)\n",
      "Tick:  917\n",
      "(<model.parts.agents.PoolAgent.PoolAgent object at 0x7f84d8866220>, 94.66807180940421)\n",
      "Tick:  919\n",
      "(<model.parts.agents.PoolAgent.PoolAgent object at 0x7f84d8866220>, 51.708285613050705)\n",
      "Tick:  919\n",
      "(<model.parts.agents.PoolAgent.PoolAgent object at 0x7f84d8866220>, 63.588791489711845)\n",
      "Tick:  923\n",
      "(<model.parts.agents.PoolAgent.PoolAgent object at 0x7f84d8866220>, 44.34713720364846)\n",
      "Tick:  923\n",
      "(<model.parts.agents.PoolAgent.PoolAgent object at 0x7f84d8866220>, 94.6389035682524)\n",
      "Tick:  923\n",
      "(<model.parts.agents.PoolAgent.PoolAgent object at 0x7f84d8866220>, 57.9577799777452)\n",
      "Tick:  924\n",
      "(<model.parts.agents.PoolAgent.PoolAgent object at 0x7f84d8866220>, 87.79305382487962)\n",
      "Tick:  935\n",
      "(<model.parts.agents.PoolAgent.PoolAgent object at 0x7f84d8866220>, 62.12909357323824)\n",
      "Tick:  939\n",
      "(<model.parts.agents.PoolAgent.PoolAgent object at 0x7f84d8866220>, 44.75639388062945)\n",
      "Tick:  942\n",
      "(<model.parts.agents.PoolAgent.PoolAgent object at 0x7f84d8866220>, 60.09140795777768)\n",
      "Tick:  944\n",
      "(<model.parts.agents.PoolAgent.PoolAgent object at 0x7f84d8866220>, 79.48654565948146)\n",
      "Tick:  944\n",
      "(<model.parts.agents.PoolAgent.PoolAgent object at 0x7f84d8866220>, 41.908044657447796)\n",
      "Tick:  944\n",
      "(<model.parts.agents.PoolAgent.PoolAgent object at 0x7f84d8866220>, 74.56061069357612)\n",
      "Tick:  944\n",
      "(<model.parts.agents.PoolAgent.PoolAgent object at 0x7f84d8866220>, 42.00413843650271)\n",
      "Tick:  944\n",
      "(<model.parts.agents.PoolAgent.PoolAgent object at 0x7f84d8866220>, 78.57449960180548)\n",
      "Tick:  949\n",
      "(<model.parts.agents.PoolAgent.PoolAgent object at 0x7f84d8866220>, 63.62686058782065)\n",
      "Tick:  951\n",
      "(<model.parts.agents.PoolAgent.PoolAgent object at 0x7f84d8866220>, 84.46522143466525)\n",
      "Tick:  959\n",
      "(<model.parts.agents.PoolAgent.PoolAgent object at 0x7f84d8866220>, 30.52857182594514)\n",
      "Tick:  959\n",
      "(<model.parts.agents.PoolAgent.PoolAgent object at 0x7f84d8866220>, 52.188438601520104)\n",
      "Tick:  965\n",
      "(<model.parts.agents.PoolAgent.PoolAgent object at 0x7f84d8866220>, 28.63716384925598)\n",
      "Tick:  965\n",
      "(<model.parts.agents.PoolAgent.PoolAgent object at 0x7f84d8866220>, 49.27495452537769)\n",
      "Tick:  965\n",
      "(<model.parts.agents.PoolAgent.PoolAgent object at 0x7f84d8866220>, 36.914225190667665)\n",
      "Tick:  971\n",
      "(<model.parts.agents.PoolAgent.PoolAgent object at 0x7f84d8866220>, 58.21220549767905)\n",
      "Tick:  971\n",
      "(<model.parts.agents.PoolAgent.PoolAgent object at 0x7f84d8866220>, 71.82672163481162)\n",
      "Tick:  971\n",
      "(<model.parts.agents.PoolAgent.PoolAgent object at 0x7f84d8866220>, 65.21683466949854)\n",
      "Tick:  974\n",
      "(<model.parts.agents.PoolAgent.PoolAgent object at 0x7f84d8866220>, 55.91678218717884)\n",
      "Tick:  979\n",
      "(<model.parts.agents.PoolAgent.PoolAgent object at 0x7f84d8866220>, 30.45225039638027)\n",
      "Tick:  979\n",
      "(<model.parts.agents.PoolAgent.PoolAgent object at 0x7f84d8866220>, 65.98224356778557)\n",
      "Tick:  983\n",
      "(<model.parts.agents.PoolAgent.PoolAgent object at 0x7f84d8866220>, 52.0579675050163)\n",
      "Tick:  986\n",
      "(<model.parts.agents.PoolAgent.PoolAgent object at 0x7f84d8866220>, 27.587134508116602)\n",
      "Tick:  986\n",
      "(<model.parts.agents.PoolAgent.PoolAgent object at 0x7f84d8866220>, 31.95131269281123)\n",
      "Tick:  988\n",
      "(<model.parts.agents.PoolAgent.PoolAgent object at 0x7f84d8866220>, 35.915966854053075)\n",
      "Tick:  998\n",
      "(<model.parts.agents.PoolAgent.PoolAgent object at 0x7f84d8866220>, 59.37644960763264)\n",
      "Tick:  998\n",
      "(<model.parts.agents.PoolAgent.PoolAgent object at 0x7f84d8866220>, 66.62984706946938)\n",
      "Tick:  998\n",
      "(<model.parts.agents.PoolAgent.PoolAgent object at 0x7f84d8866220>, 50.945856730055326)\n",
      "Tick:  999\n",
      "(<model.parts.agents.PoolAgent.PoolAgent object at 0x7f84d8866220>, 24.666322821068015)\n",
      "Tick:  999\n",
      "(<model.parts.agents.PoolAgent.PoolAgent object at 0x7f84d8866220>, 48.39908147090257)\n",
      "1000\n"
     ]
    }
   ],
   "source": [
    "model = Model(initial_state=initial_state, state_update_blocks=partial_state_update_block, params=params)\n",
    "simulation = Simulation(model=model, timesteps=SIMULATION_TIME_STEPS, runs=MONTE_CARLO_RUNS)\n",
    "experiment = Experiment(simulation)\n",
    "# Select the Pathos backend to avoid issues with multiprocessing and Jupyter Notebooks\n",
    "experiment.engine = Engine(backend=Backend.PATHOS, deepcopy=False, drop_substeps=True)\n",
    "\n",
    "result = experiment.run()"
   ]
  },
  {
   "cell_type": "markdown",
   "metadata": {},
   "source": [
    "## Interpretation of Results"
   ]
  },
  {
   "cell_type": "code",
   "execution_count": 4,
   "metadata": {},
   "outputs": [],
   "source": [
    "df = pd.DataFrame(result)\n",
    "# rdf = df[df['substep'] == df.substep.max()]"
   ]
  },
  {
   "cell_type": "code",
   "execution_count": 5,
   "metadata": {},
   "outputs": [
    {
     "data": {
      "text/html": [
       "<div>\n",
       "<style scoped>\n",
       "    .dataframe tbody tr th:only-of-type {\n",
       "        vertical-align: middle;\n",
       "    }\n",
       "\n",
       "    .dataframe tbody tr th {\n",
       "        vertical-align: top;\n",
       "    }\n",
       "\n",
       "    .dataframe thead th {\n",
       "        text-align: right;\n",
       "    }\n",
       "</style>\n",
       "<table border=\"1\" class=\"dataframe\">\n",
       "  <thead>\n",
       "    <tr style=\"text-align: right;\">\n",
       "      <th></th>\n",
       "      <th>agents</th>\n",
       "      <th>state</th>\n",
       "      <th>simulation</th>\n",
       "      <th>subset</th>\n",
       "      <th>run</th>\n",
       "      <th>substep</th>\n",
       "      <th>timestep</th>\n",
       "    </tr>\n",
       "  </thead>\n",
       "  <tbody>\n",
       "    <tr>\n",
       "      <th>0</th>\n",
       "      <td>{'White Pool': PoolAgent={name=White Pool, _ab...</td>\n",
       "      <td>&lt;model.SimState.SimState object at 0x7ff9307b5...</td>\n",
       "      <td>0</td>\n",
       "      <td>0</td>\n",
       "      <td>1</td>\n",
       "      <td>0</td>\n",
       "      <td>0</td>\n",
       "    </tr>\n",
       "    <tr>\n",
       "      <th>1</th>\n",
       "      <td>{'White Pool': PoolAgent={name=White Pool, _ab...</td>\n",
       "      <td>&lt;model.SimState.SimState object at 0x7ff9307b5...</td>\n",
       "      <td>0</td>\n",
       "      <td>0</td>\n",
       "      <td>1</td>\n",
       "      <td>3</td>\n",
       "      <td>1</td>\n",
       "    </tr>\n",
       "    <tr>\n",
       "      <th>2</th>\n",
       "      <td>{'White Pool': PoolAgent={name=White Pool, _ab...</td>\n",
       "      <td>&lt;model.SimState.SimState object at 0x7ff9307b5...</td>\n",
       "      <td>0</td>\n",
       "      <td>0</td>\n",
       "      <td>1</td>\n",
       "      <td>3</td>\n",
       "      <td>2</td>\n",
       "    </tr>\n",
       "    <tr>\n",
       "      <th>3</th>\n",
       "      <td>{'White Pool': PoolAgent={name=White Pool, _ab...</td>\n",
       "      <td>&lt;model.SimState.SimState object at 0x7ff9307b5...</td>\n",
       "      <td>0</td>\n",
       "      <td>0</td>\n",
       "      <td>1</td>\n",
       "      <td>3</td>\n",
       "      <td>3</td>\n",
       "    </tr>\n",
       "    <tr>\n",
       "      <th>4</th>\n",
       "      <td>{'White Pool': PoolAgent={name=White Pool, _ab...</td>\n",
       "      <td>&lt;model.SimState.SimState object at 0x7ff9307b5...</td>\n",
       "      <td>0</td>\n",
       "      <td>0</td>\n",
       "      <td>1</td>\n",
       "      <td>3</td>\n",
       "      <td>4</td>\n",
       "    </tr>\n",
       "    <tr>\n",
       "      <th>...</th>\n",
       "      <td>...</td>\n",
       "      <td>...</td>\n",
       "      <td>...</td>\n",
       "      <td>...</td>\n",
       "      <td>...</td>\n",
       "      <td>...</td>\n",
       "      <td>...</td>\n",
       "    </tr>\n",
       "    <tr>\n",
       "      <th>95</th>\n",
       "      <td>{'White Pool': PoolAgent={name=White Pool, _ab...</td>\n",
       "      <td>&lt;model.SimState.SimState object at 0x7ff9307b5...</td>\n",
       "      <td>0</td>\n",
       "      <td>0</td>\n",
       "      <td>1</td>\n",
       "      <td>3</td>\n",
       "      <td>95</td>\n",
       "    </tr>\n",
       "    <tr>\n",
       "      <th>96</th>\n",
       "      <td>{'White Pool': PoolAgent={name=White Pool, _ab...</td>\n",
       "      <td>&lt;model.SimState.SimState object at 0x7ff9307b5...</td>\n",
       "      <td>0</td>\n",
       "      <td>0</td>\n",
       "      <td>1</td>\n",
       "      <td>3</td>\n",
       "      <td>96</td>\n",
       "    </tr>\n",
       "    <tr>\n",
       "      <th>97</th>\n",
       "      <td>{'White Pool': PoolAgent={name=White Pool, _ab...</td>\n",
       "      <td>&lt;model.SimState.SimState object at 0x7ff9307b5...</td>\n",
       "      <td>0</td>\n",
       "      <td>0</td>\n",
       "      <td>1</td>\n",
       "      <td>3</td>\n",
       "      <td>97</td>\n",
       "    </tr>\n",
       "    <tr>\n",
       "      <th>98</th>\n",
       "      <td>{'White Pool': PoolAgent={name=White Pool, _ab...</td>\n",
       "      <td>&lt;model.SimState.SimState object at 0x7ff9307b5...</td>\n",
       "      <td>0</td>\n",
       "      <td>0</td>\n",
       "      <td>1</td>\n",
       "      <td>3</td>\n",
       "      <td>98</td>\n",
       "    </tr>\n",
       "    <tr>\n",
       "      <th>99</th>\n",
       "      <td>{'White Pool': PoolAgent={name=White Pool, _ab...</td>\n",
       "      <td>&lt;model.SimState.SimState object at 0x7ff9307b5...</td>\n",
       "      <td>0</td>\n",
       "      <td>0</td>\n",
       "      <td>1</td>\n",
       "      <td>3</td>\n",
       "      <td>99</td>\n",
       "    </tr>\n",
       "  </tbody>\n",
       "</table>\n",
       "<p>100 rows × 7 columns</p>\n",
       "</div>"
      ],
      "text/plain": [
       "                                               agents  \\\n",
       "0   {'White Pool': PoolAgent={name=White Pool, _ab...   \n",
       "1   {'White Pool': PoolAgent={name=White Pool, _ab...   \n",
       "2   {'White Pool': PoolAgent={name=White Pool, _ab...   \n",
       "3   {'White Pool': PoolAgent={name=White Pool, _ab...   \n",
       "4   {'White Pool': PoolAgent={name=White Pool, _ab...   \n",
       "..                                                ...   \n",
       "95  {'White Pool': PoolAgent={name=White Pool, _ab...   \n",
       "96  {'White Pool': PoolAgent={name=White Pool, _ab...   \n",
       "97  {'White Pool': PoolAgent={name=White Pool, _ab...   \n",
       "98  {'White Pool': PoolAgent={name=White Pool, _ab...   \n",
       "99  {'White Pool': PoolAgent={name=White Pool, _ab...   \n",
       "\n",
       "                                                state  simulation  subset  \\\n",
       "0   <model.SimState.SimState object at 0x7ff9307b5...           0       0   \n",
       "1   <model.SimState.SimState object at 0x7ff9307b5...           0       0   \n",
       "2   <model.SimState.SimState object at 0x7ff9307b5...           0       0   \n",
       "3   <model.SimState.SimState object at 0x7ff9307b5...           0       0   \n",
       "4   <model.SimState.SimState object at 0x7ff9307b5...           0       0   \n",
       "..                                                ...         ...     ...   \n",
       "95  <model.SimState.SimState object at 0x7ff9307b5...           0       0   \n",
       "96  <model.SimState.SimState object at 0x7ff9307b5...           0       0   \n",
       "97  <model.SimState.SimState object at 0x7ff9307b5...           0       0   \n",
       "98  <model.SimState.SimState object at 0x7ff9307b5...           0       0   \n",
       "99  <model.SimState.SimState object at 0x7ff9307b5...           0       0   \n",
       "\n",
       "    run  substep  timestep  \n",
       "0     1        0         0  \n",
       "1     1        3         1  \n",
       "2     1        3         2  \n",
       "3     1        3         3  \n",
       "4     1        3         4  \n",
       "..  ...      ...       ...  \n",
       "95    1        3        95  \n",
       "96    1        3        96  \n",
       "97    1        3        97  \n",
       "98    1        3        98  \n",
       "99    1        3        99  \n",
       "\n",
       "[100 rows x 7 columns]"
      ]
     },
     "execution_count": 5,
     "metadata": {},
     "output_type": "execute_result"
    }
   ],
   "source": [
    "df.head(100)"
   ]
  },
  {
   "cell_type": "code",
   "execution_count": 6,
   "metadata": {},
   "outputs": [
    {
     "name": "stdout",
     "output_type": "stream",
     "text": [
      "7.0\n"
     ]
    }
   ],
   "source": [
    "row = df.head(100)\n",
    "ag = row['state'][90]\n",
    "print(ag.white_pool_volume_USD)"
   ]
  },
  {
   "cell_type": "markdown",
   "metadata": {},
   "source": [
    "\n",
    "\n"
   ]
  },
  {
   "cell_type": "code",
   "execution_count": 7,
   "metadata": {},
   "outputs": [
    {
     "name": "stderr",
     "output_type": "stream",
     "text": [
      "/Users/marc/conda/envs/rlcadenv/lib/python3.8/site-packages/pandas/plotting/_matplotlib/core.py:613: UserWarning: The handle <matplotlib.lines.Line2D object at 0x7ff96098fbe0> has a label of '_USD' which cannot be automatically added to the legend.\n",
      "  ax.legend(handles, labels, loc=\"best\", title=title)\n",
      "/Users/marc/conda/envs/rlcadenv/lib/python3.8/site-packages/pandas/plotting/_matplotlib/core.py:613: UserWarning: The handle <matplotlib.lines.Line2D object at 0x7ff96098f790> has a label of '_ETH' which cannot be automatically added to the legend.\n",
      "  ax.legend(handles, labels, loc=\"best\", title=title)\n",
      "/Users/marc/conda/envs/rlcadenv/lib/python3.8/site-packages/pandas/plotting/_matplotlib/core.py:613: UserWarning: The handle <matplotlib.lines.Line2D object at 0x7ff980e694c0> has a label of '_USD' which cannot be automatically added to the legend.\n",
      "  ax.legend(handles, labels, loc=\"best\", title=title)\n",
      "/Users/marc/conda/envs/rlcadenv/lib/python3.8/site-packages/pandas/plotting/_matplotlib/core.py:613: UserWarning: The handle <matplotlib.lines.Line2D object at 0x7ff980e698b0> has a label of '_ETH' which cannot be automatically added to the legend.\n",
      "  ax.legend(handles, labels, loc=\"best\", title=title)\n",
      "/Users/marc/conda/envs/rlcadenv/lib/python3.8/site-packages/pandas/plotting/_matplotlib/core.py:613: UserWarning: The handle <matplotlib.lines.Line2D object at 0x7ff9307a79a0> has a label of '_USD' which cannot be automatically added to the legend.\n",
      "  ax.legend(handles, labels, loc=\"best\", title=title)\n",
      "/Users/marc/conda/envs/rlcadenv/lib/python3.8/site-packages/pandas/plotting/_matplotlib/core.py:613: UserWarning: The handle <matplotlib.lines.Line2D object at 0x7ff9307a7550> has a label of '_ETH' which cannot be automatically added to the legend.\n",
      "  ax.legend(handles, labels, loc=\"best\", title=title)\n",
      "/Users/marc/conda/envs/rlcadenv/lib/python3.8/site-packages/pandas/plotting/_matplotlib/core.py:613: UserWarning: The handle <matplotlib.lines.Line2D object at 0x7ff9609328b0> has a label of '_USD' which cannot be automatically added to the legend.\n",
      "  ax.legend(handles, labels, loc=\"best\", title=title)\n",
      "/Users/marc/conda/envs/rlcadenv/lib/python3.8/site-packages/pandas/plotting/_matplotlib/core.py:613: UserWarning: The handle <matplotlib.lines.Line2D object at 0x7ff960932340> has a label of '_ETH' which cannot be automatically added to the legend.\n",
      "  ax.legend(handles, labels, loc=\"best\", title=title)\n",
      "/Users/marc/conda/envs/rlcadenv/lib/python3.8/site-packages/pandas/plotting/_matplotlib/core.py:613: UserWarning: The handle <matplotlib.lines.Line2D object at 0x7ff980e00f70> has a label of '_USD' which cannot be automatically added to the legend.\n",
      "  ax.legend(handles, labels, loc=\"best\", title=title)\n",
      "/Users/marc/conda/envs/rlcadenv/lib/python3.8/site-packages/pandas/plotting/_matplotlib/core.py:613: UserWarning: The handle <matplotlib.lines.Line2D object at 0x7ff980dee3a0> has a label of '_ETH' which cannot be automatically added to the legend.\n",
      "  ax.legend(handles, labels, loc=\"best\", title=title)\n",
      "/Users/marc/conda/envs/rlcadenv/lib/python3.8/site-packages/pandas/plotting/_matplotlib/core.py:613: UserWarning: The handle <matplotlib.lines.Line2D object at 0x7ff950767d30> has a label of '_USD' which cannot be automatically added to the legend.\n",
      "  ax.legend(handles, labels, loc=\"best\", title=title)\n",
      "/Users/marc/conda/envs/rlcadenv/lib/python3.8/site-packages/pandas/plotting/_matplotlib/core.py:613: UserWarning: The handle <matplotlib.lines.Line2D object at 0x7ff950774160> has a label of '_ETH' which cannot be automatically added to the legend.\n",
      "  ax.legend(handles, labels, loc=\"best\", title=title)\n",
      "/Users/marc/conda/envs/rlcadenv/lib/python3.8/site-packages/pandas/plotting/_matplotlib/core.py:613: UserWarning: The handle <matplotlib.lines.Line2D object at 0x7ff940ad7b20> has a label of '_USD' which cannot be automatically added to the legend.\n",
      "  ax.legend(handles, labels, loc=\"best\", title=title)\n",
      "/Users/marc/conda/envs/rlcadenv/lib/python3.8/site-packages/pandas/plotting/_matplotlib/core.py:613: UserWarning: The handle <matplotlib.lines.Line2D object at 0x7ff940ad7f10> has a label of '_ETH' which cannot be automatically added to the legend.\n",
      "  ax.legend(handles, labels, loc=\"best\", title=title)\n",
      "/Users/marc/conda/envs/rlcadenv/lib/python3.8/site-packages/pandas/plotting/_matplotlib/core.py:613: UserWarning: The handle <matplotlib.lines.Line2D object at 0x7ff970c6a520> has a label of '_USD' which cannot be automatically added to the legend.\n",
      "  ax.legend(handles, labels, loc=\"best\", title=title)\n",
      "/Users/marc/conda/envs/rlcadenv/lib/python3.8/site-packages/pandas/plotting/_matplotlib/core.py:613: UserWarning: The handle <matplotlib.lines.Line2D object at 0x7ff970c6a910> has a label of '_ETH' which cannot be automatically added to the legend.\n",
      "  ax.legend(handles, labels, loc=\"best\", title=title)\n",
      "/Users/marc/conda/envs/rlcadenv/lib/python3.8/site-packages/pandas/plotting/_matplotlib/core.py:613: UserWarning: The handle <matplotlib.lines.Line2D object at 0x7ff91059e4f0> has a label of '_USD' which cannot be automatically added to the legend.\n",
      "  ax.legend(handles, labels, loc=\"best\", title=title)\n",
      "/Users/marc/conda/envs/rlcadenv/lib/python3.8/site-packages/pandas/plotting/_matplotlib/core.py:613: UserWarning: The handle <matplotlib.lines.Line2D object at 0x7ff91059e8e0> has a label of '_ETH' which cannot be automatically added to the legend.\n",
      "  ax.legend(handles, labels, loc=\"best\", title=title)\n",
      "/Users/marc/conda/envs/rlcadenv/lib/python3.8/site-packages/pandas/plotting/_matplotlib/core.py:613: UserWarning: The handle <matplotlib.lines.Line2D object at 0x7ff980eb0490> has a label of '_USD' which cannot be automatically added to the legend.\n",
      "  ax.legend(handles, labels, loc=\"best\", title=title)\n",
      "/Users/marc/conda/envs/rlcadenv/lib/python3.8/site-packages/pandas/plotting/_matplotlib/core.py:613: UserWarning: The handle <matplotlib.lines.Line2D object at 0x7ff980eb0880> has a label of '_ETH' which cannot be automatically added to the legend.\n",
      "  ax.legend(handles, labels, loc=\"best\", title=title)\n",
      "/Users/marc/conda/envs/rlcadenv/lib/python3.8/site-packages/pandas/plotting/_matplotlib/core.py:613: UserWarning: The handle <matplotlib.lines.Line2D object at 0x7ff970cb00a0> has a label of '_USD' which cannot be automatically added to the legend.\n",
      "  ax.legend(handles, labels, loc=\"best\", title=title)\n",
      "/Users/marc/conda/envs/rlcadenv/lib/python3.8/site-packages/pandas/plotting/_matplotlib/core.py:613: UserWarning: The handle <matplotlib.lines.Line2D object at 0x7ff970cb0f10> has a label of '_ETH' which cannot be automatically added to the legend.\n",
      "  ax.legend(handles, labels, loc=\"best\", title=title)\n",
      "/Users/marc/conda/envs/rlcadenv/lib/python3.8/site-packages/pandas/plotting/_matplotlib/core.py:613: UserWarning: The handle <matplotlib.lines.Line2D object at 0x7ff9206bbac0> has a label of '_USD' which cannot be automatically added to the legend.\n",
      "  ax.legend(handles, labels, loc=\"best\", title=title)\n",
      "/Users/marc/conda/envs/rlcadenv/lib/python3.8/site-packages/pandas/plotting/_matplotlib/core.py:613: UserWarning: The handle <matplotlib.lines.Line2D object at 0x7ff9206bbeb0> has a label of '_ETH' which cannot be automatically added to the legend.\n",
      "  ax.legend(handles, labels, loc=\"best\", title=title)\n",
      "/Users/marc/conda/envs/rlcadenv/lib/python3.8/site-packages/pandas/plotting/_matplotlib/core.py:613: UserWarning: The handle <matplotlib.lines.Line2D object at 0x7ff980efba60> has a label of '_USD' which cannot be automatically added to the legend.\n",
      "  ax.legend(handles, labels, loc=\"best\", title=title)\n",
      "/Users/marc/conda/envs/rlcadenv/lib/python3.8/site-packages/pandas/plotting/_matplotlib/core.py:613: UserWarning: The handle <matplotlib.lines.Line2D object at 0x7ff980efbe50> has a label of '_ETH' which cannot be automatically added to the legend.\n",
      "  ax.legend(handles, labels, loc=\"best\", title=title)\n",
      "/Users/marc/conda/envs/rlcadenv/lib/python3.8/site-packages/pandas/plotting/_matplotlib/core.py:613: UserWarning: The handle <matplotlib.lines.Line2D object at 0x7ff9609d2940> has a label of '_USD' which cannot be automatically added to the legend.\n",
      "  ax.legend(handles, labels, loc=\"best\", title=title)\n",
      "/Users/marc/conda/envs/rlcadenv/lib/python3.8/site-packages/pandas/plotting/_matplotlib/core.py:613: UserWarning: The handle <matplotlib.lines.Line2D object at 0x7ff9206c8d90> has a label of '_ETH' which cannot be automatically added to the legend.\n",
      "  ax.legend(handles, labels, loc=\"best\", title=title)\n",
      "/Users/marc/conda/envs/rlcadenv/lib/python3.8/site-packages/pandas/plotting/_matplotlib/core.py:613: UserWarning: The handle <matplotlib.lines.Line2D object at 0x7ff950715fa0> has a label of '_USD' which cannot be automatically added to the legend.\n",
      "  ax.legend(handles, labels, loc=\"best\", title=title)\n",
      "/Users/marc/conda/envs/rlcadenv/lib/python3.8/site-packages/pandas/plotting/_matplotlib/core.py:613: UserWarning: The handle <matplotlib.lines.Line2D object at 0x7ff950723430> has a label of '_ETH' which cannot be automatically added to the legend.\n",
      "  ax.legend(handles, labels, loc=\"best\", title=title)\n",
      "/Users/marc/conda/envs/rlcadenv/lib/python3.8/site-packages/pandas/plotting/_matplotlib/core.py:613: UserWarning: The handle <matplotlib.lines.Line2D object at 0x7ff980f46ca0> has a label of '_USD' which cannot be automatically added to the legend.\n",
      "  ax.legend(handles, labels, loc=\"best\", title=title)\n",
      "/Users/marc/conda/envs/rlcadenv/lib/python3.8/site-packages/pandas/plotting/_matplotlib/core.py:613: UserWarning: The handle <matplotlib.lines.Line2D object at 0x7ff980f540d0> has a label of '_ETH' which cannot be automatically added to the legend.\n",
      "  ax.legend(handles, labels, loc=\"best\", title=title)\n",
      "/Users/marc/conda/envs/rlcadenv/lib/python3.8/site-packages/pandas/plotting/_matplotlib/core.py:613: UserWarning: The handle <matplotlib.lines.Line2D object at 0x7ff960a1dc10> has a label of '_USD' which cannot be automatically added to the legend.\n",
      "  ax.legend(handles, labels, loc=\"best\", title=title)\n",
      "/Users/marc/conda/envs/rlcadenv/lib/python3.8/site-packages/pandas/plotting/_matplotlib/core.py:613: UserWarning: The handle <matplotlib.lines.Line2D object at 0x7ff960a28040> has a label of '_ETH' which cannot be automatically added to the legend.\n",
      "  ax.legend(handles, labels, loc=\"best\", title=title)\n",
      "/Users/marc/conda/envs/rlcadenv/lib/python3.8/site-packages/pandas/plotting/_matplotlib/core.py:613: UserWarning: The handle <matplotlib.lines.Line2D object at 0x7ff92079f580> has a label of '_USD' which cannot be automatically added to the legend.\n",
      "  ax.legend(handles, labels, loc=\"best\", title=title)\n",
      "/Users/marc/conda/envs/rlcadenv/lib/python3.8/site-packages/pandas/plotting/_matplotlib/core.py:613: UserWarning: The handle <matplotlib.lines.Line2D object at 0x7ff92079f970> has a label of '_ETH' which cannot be automatically added to the legend.\n",
      "  ax.legend(handles, labels, loc=\"best\", title=title)\n",
      "/Users/marc/conda/envs/rlcadenv/lib/python3.8/site-packages/pandas/plotting/_matplotlib/core.py:613: UserWarning: The handle <matplotlib.lines.Line2D object at 0x7ff960a6e4f0> has a label of '_USD' which cannot be automatically added to the legend.\n",
      "  ax.legend(handles, labels, loc=\"best\", title=title)\n",
      "/Users/marc/conda/envs/rlcadenv/lib/python3.8/site-packages/pandas/plotting/_matplotlib/core.py:613: UserWarning: The handle <matplotlib.lines.Line2D object at 0x7ff960a6e8e0> has a label of '_ETH' which cannot be automatically added to the legend.\n",
      "  ax.legend(handles, labels, loc=\"best\", title=title)\n",
      "/Users/marc/conda/envs/rlcadenv/lib/python3.8/site-packages/pandas/plotting/_matplotlib/core.py:613: UserWarning: The handle <matplotlib.lines.Line2D object at 0x7ff960a753d0> has a label of '_USD' which cannot be automatically added to the legend.\n",
      "  ax.legend(handles, labels, loc=\"best\", title=title)\n",
      "/Users/marc/conda/envs/rlcadenv/lib/python3.8/site-packages/pandas/plotting/_matplotlib/core.py:613: UserWarning: The handle <matplotlib.lines.Line2D object at 0x7ff960a757c0> has a label of '_ETH' which cannot be automatically added to the legend.\n",
      "  ax.legend(handles, labels, loc=\"best\", title=title)\n",
      "/Users/marc/conda/envs/rlcadenv/lib/python3.8/site-packages/pandas/plotting/_matplotlib/core.py:337: RuntimeWarning: More than 20 figures have been opened. Figures created through the pyplot interface (`matplotlib.pyplot.figure`) are retained until explicitly closed and may consume too much memory. (To control this warning, see the rcParam `figure.max_open_warning`).\n",
      "  fig = self.plt.figure(figsize=self.figsize)\n",
      "/Users/marc/conda/envs/rlcadenv/lib/python3.8/site-packages/pandas/plotting/_matplotlib/core.py:613: UserWarning: The handle <matplotlib.lines.Line2D object at 0x7ff9507bcb50> has a label of '_USD' which cannot be automatically added to the legend.\n",
      "  ax.legend(handles, labels, loc=\"best\", title=title)\n",
      "/Users/marc/conda/envs/rlcadenv/lib/python3.8/site-packages/pandas/plotting/_matplotlib/core.py:613: UserWarning: The handle <matplotlib.lines.Line2D object at 0x7ff9507bcf40> has a label of '_ETH' which cannot be automatically added to the legend.\n",
      "  ax.legend(handles, labels, loc=\"best\", title=title)\n",
      "/Users/marc/conda/envs/rlcadenv/lib/python3.8/site-packages/pandas/plotting/_matplotlib/core.py:613: UserWarning: The handle <matplotlib.lines.Line2D object at 0x7ff940ae9ac0> has a label of '_USD' which cannot be automatically added to the legend.\n",
      "  ax.legend(handles, labels, loc=\"best\", title=title)\n",
      "/Users/marc/conda/envs/rlcadenv/lib/python3.8/site-packages/pandas/plotting/_matplotlib/core.py:613: UserWarning: The handle <matplotlib.lines.Line2D object at 0x7ff940ae9eb0> has a label of '_ETH' which cannot be automatically added to the legend.\n",
      "  ax.legend(handles, labels, loc=\"best\", title=title)\n",
      "/Users/marc/conda/envs/rlcadenv/lib/python3.8/site-packages/pandas/plotting/_matplotlib/core.py:613: UserWarning: The handle <matplotlib.lines.Line2D object at 0x7ff9105e9a30> has a label of '_USD' which cannot be automatically added to the legend.\n",
      "  ax.legend(handles, labels, loc=\"best\", title=title)\n",
      "/Users/marc/conda/envs/rlcadenv/lib/python3.8/site-packages/pandas/plotting/_matplotlib/core.py:613: UserWarning: The handle <matplotlib.lines.Line2D object at 0x7ff9105e9c70> has a label of '_ETH' which cannot be automatically added to the legend.\n",
      "  ax.legend(handles, labels, loc=\"best\", title=title)\n",
      "/Users/marc/conda/envs/rlcadenv/lib/python3.8/site-packages/pandas/plotting/_matplotlib/core.py:613: UserWarning: The handle <matplotlib.lines.Line2D object at 0x7ff960ac2ee0> has a label of '_USD' which cannot be automatically added to the legend.\n",
      "  ax.legend(handles, labels, loc=\"best\", title=title)\n",
      "/Users/marc/conda/envs/rlcadenv/lib/python3.8/site-packages/pandas/plotting/_matplotlib/core.py:613: UserWarning: The handle <matplotlib.lines.Line2D object at 0x7ff960ace310> has a label of '_ETH' which cannot be automatically added to the legend.\n",
      "  ax.legend(handles, labels, loc=\"best\", title=title)\n",
      "/Users/marc/conda/envs/rlcadenv/lib/python3.8/site-packages/pandas/plotting/_matplotlib/core.py:613: UserWarning: The handle <matplotlib.lines.Line2D object at 0x7ff9307f1ca0> has a label of '_USD' which cannot be automatically added to the legend.\n",
      "  ax.legend(handles, labels, loc=\"best\", title=title)\n",
      "/Users/marc/conda/envs/rlcadenv/lib/python3.8/site-packages/pandas/plotting/_matplotlib/core.py:613: UserWarning: The handle <matplotlib.lines.Line2D object at 0x7ff9307ff0d0> has a label of '_ETH' which cannot be automatically added to the legend.\n",
      "  ax.legend(handles, labels, loc=\"best\", title=title)\n",
      "/Users/marc/conda/envs/rlcadenv/lib/python3.8/site-packages/pandas/plotting/_matplotlib/core.py:613: UserWarning: The handle <matplotlib.lines.Line2D object at 0x7ff960b1a2e0> has a label of '_USD' which cannot be automatically added to the legend.\n",
      "  ax.legend(handles, labels, loc=\"best\", title=title)\n",
      "/Users/marc/conda/envs/rlcadenv/lib/python3.8/site-packages/pandas/plotting/_matplotlib/core.py:613: UserWarning: The handle <matplotlib.lines.Line2D object at 0x7ff960b1a6d0> has a label of '_ETH' which cannot be automatically added to the legend.\n",
      "  ax.legend(handles, labels, loc=\"best\", title=title)\n",
      "/Users/marc/conda/envs/rlcadenv/lib/python3.8/site-packages/pandas/plotting/_matplotlib/core.py:613: UserWarning: The handle <matplotlib.lines.Line2D object at 0x7ff91063cac0> has a label of '_USD' which cannot be automatically added to the legend.\n",
      "  ax.legend(handles, labels, loc=\"best\", title=title)\n",
      "/Users/marc/conda/envs/rlcadenv/lib/python3.8/site-packages/pandas/plotting/_matplotlib/core.py:613: UserWarning: The handle <matplotlib.lines.Line2D object at 0x7ff91063ceb0> has a label of '_ETH' which cannot be automatically added to the legend.\n",
      "  ax.legend(handles, labels, loc=\"best\", title=title)\n",
      "/Users/marc/conda/envs/rlcadenv/lib/python3.8/site-packages/pandas/plotting/_matplotlib/core.py:613: UserWarning: The handle <matplotlib.lines.Line2D object at 0x7ff950872a30> has a label of '_USD' which cannot be automatically added to the legend.\n",
      "  ax.legend(handles, labels, loc=\"best\", title=title)\n",
      "/Users/marc/conda/envs/rlcadenv/lib/python3.8/site-packages/pandas/plotting/_matplotlib/core.py:613: UserWarning: The handle <matplotlib.lines.Line2D object at 0x7ff950872e20> has a label of '_ETH' which cannot be automatically added to the legend.\n",
      "  ax.legend(handles, labels, loc=\"best\", title=title)\n",
      "/Users/marc/conda/envs/rlcadenv/lib/python3.8/site-packages/pandas/plotting/_matplotlib/core.py:613: UserWarning: The handle <matplotlib.lines.Line2D object at 0x7ff9106889a0> has a label of '_USD' which cannot be automatically added to the legend.\n",
      "  ax.legend(handles, labels, loc=\"best\", title=title)\n",
      "/Users/marc/conda/envs/rlcadenv/lib/python3.8/site-packages/pandas/plotting/_matplotlib/core.py:613: UserWarning: The handle <matplotlib.lines.Line2D object at 0x7ff910688d90> has a label of '_ETH' which cannot be automatically added to the legend.\n",
      "  ax.legend(handles, labels, loc=\"best\", title=title)\n",
      "/Users/marc/conda/envs/rlcadenv/lib/python3.8/site-packages/pandas/plotting/_matplotlib/core.py:613: UserWarning: The handle <matplotlib.lines.Line2D object at 0x7ff960b5efa0> has a label of '_USD' which cannot be automatically added to the legend.\n",
      "  ax.legend(handles, labels, loc=\"best\", title=title)\n",
      "/Users/marc/conda/envs/rlcadenv/lib/python3.8/site-packages/pandas/plotting/_matplotlib/core.py:613: UserWarning: The handle <matplotlib.lines.Line2D object at 0x7ff960b6b3d0> has a label of '_ETH' which cannot be automatically added to the legend.\n",
      "  ax.legend(handles, labels, loc=\"best\", title=title)\n",
      "/Users/marc/conda/envs/rlcadenv/lib/python3.8/site-packages/pandas/plotting/_matplotlib/core.py:613: UserWarning: The handle <matplotlib.lines.Line2D object at 0x7ff960b72040> has a label of '_USD' which cannot be automatically added to the legend.\n",
      "  ax.legend(handles, labels, loc=\"best\", title=title)\n",
      "/Users/marc/conda/envs/rlcadenv/lib/python3.8/site-packages/pandas/plotting/_matplotlib/core.py:613: UserWarning: The handle <matplotlib.lines.Line2D object at 0x7ff960b72490> has a label of '_ETH' which cannot be automatically added to the legend.\n",
      "  ax.legend(handles, labels, loc=\"best\", title=title)\n",
      "/Users/marc/conda/envs/rlcadenv/lib/python3.8/site-packages/pandas/plotting/_matplotlib/core.py:613: UserWarning: The handle <matplotlib.lines.Line2D object at 0x7ff960ba9e20> has a label of '_USD' which cannot be automatically added to the legend.\n",
      "  ax.legend(handles, labels, loc=\"best\", title=title)\n",
      "/Users/marc/conda/envs/rlcadenv/lib/python3.8/site-packages/pandas/plotting/_matplotlib/core.py:613: UserWarning: The handle <matplotlib.lines.Line2D object at 0x7ff960bb7250> has a label of '_ETH' which cannot be automatically added to the legend.\n",
      "  ax.legend(handles, labels, loc=\"best\", title=title)\n",
      "/Users/marc/conda/envs/rlcadenv/lib/python3.8/site-packages/pandas/plotting/_matplotlib/core.py:613: UserWarning: The handle <matplotlib.lines.Line2D object at 0x7ff940b3d520> has a label of '_USD' which cannot be automatically added to the legend.\n",
      "  ax.legend(handles, labels, loc=\"best\", title=title)\n",
      "/Users/marc/conda/envs/rlcadenv/lib/python3.8/site-packages/pandas/plotting/_matplotlib/core.py:613: UserWarning: The handle <matplotlib.lines.Line2D object at 0x7ff940b3d910> has a label of '_ETH' which cannot be automatically added to the legend.\n",
      "  ax.legend(handles, labels, loc=\"best\", title=title)\n"
     ]
    },
    {
     "data": {
      "image/png": "[encoded data removed]",
      "text/plain": [
       "<Figure size 432x288 with 1 Axes>"
      ]
     },
     "metadata": {
      "needs_background": "light"
     },
     "output_type": "display_data"
    },
    {
     "data": {
      "image/png": "[encoded data removed]",
      "text/plain": [
       "<Figure size 432x288 with 1 Axes>"
      ]
     },
     "metadata": {
      "needs_background": "light"
     },
     "output_type": "display_data"
    },
    {
     "data": {
      "image/png": "[encoded data removed]",
      "text/plain": [
       "<Figure size 432x288 with 1 Axes>"
      ]
     },
     "metadata": {
      "needs_background": "light"
     },
     "output_type": "display_data"
    },
    {
     "data": {
      "image/png": "[encoded data removed]",
      "text/plain": [
       "<Figure size 432x288 with 1 Axes>"
      ]
     },
     "metadata": {
      "needs_background": "light"
     },
     "output_type": "display_data"
    },
    {
     "data": {
      "image/png": "[encoded data removed]",
      "text/plain": [
       "<Figure size 432x288 with 1 Axes>"
      ]
     },
     "metadata": {
      "needs_background": "light"
     },
     "output_type": "display_data"
    },
    {
     "data": {
      "image/png": "[encoded data removed]",
      "text/plain": [
       "<Figure size 432x288 with 1 Axes>"
      ]
     },
     "metadata": {
      "needs_background": "light"
     },
     "output_type": "display_data"
    },
    {
     "data": {
      "image/png": "[encoded data removed]",
      "text/plain": [
       "<Figure size 432x288 with 1 Axes>"
      ]
     },
     "metadata": {
      "needs_background": "light"
     },
     "output_type": "display_data"
    },
    {
     "data": {
      "image/png": "[encoded data removed]",
      "text/plain": [
       "<Figure size 432x288 with 1 Axes>"
      ]
     },
     "metadata": {
      "needs_background": "light"
     },
     "output_type": "display_data"
    },
    {
     "data": {
      "image/png": "[encoded data removed]",
      "text/plain": [
       "<Figure size 432x288 with 1 Axes>"
      ]
     },
     "metadata": {
      "needs_background": "light"
     },
     "output_type": "display_data"
    },
    {
     "data": {
      "image/png": "[encoded data removed]",
      "text/plain": [
       "<Figure size 432x288 with 1 Axes>"
      ]
     },
     "metadata": {
      "needs_background": "light"
     },
     "output_type": "display_data"
    },
    {
     "data": {
      "image/png": "[encoded data removed]",
      "text/plain": [
       "<Figure size 432x288 with 1 Axes>"
      ]
     },
     "metadata": {
      "needs_background": "light"
     },
     "output_type": "display_data"
    },
    {
     "data": {
      "image/png": "[encoded data removed]",
      "text/plain": [
       "<Figure size 432x288 with 1 Axes>"
      ]
     },
     "metadata": {
      "needs_background": "light"
     },
     "output_type": "display_data"
    },
    {
     "data": {
      "image/png": "[encoded data removed]",
      "text/plain": [
       "<Figure size 432x288 with 1 Axes>"
      ]
     },
     "metadata": {
      "needs_background": "light"
     },
     "output_type": "display_data"
    },
    {
     "data": {
      "image/png": "[encoded data removed]",
      "text/plain": [
       "<Figure size 432x288 with 1 Axes>"
      ]
     },
     "metadata": {
      "needs_background": "light"
     },
     "output_type": "display_data"
    },
    {
     "data": {
      "image/png": "[encoded data removed]",
      "text/plain": [
       "<Figure size 432x288 with 1 Axes>"
      ]
     },
     "metadata": {
      "needs_background": "light"
     },
     "output_type": "display_data"
    },
    {
     "data": {
      "image/png": "[encoded data removed]",
      "text/plain": [
       "<Figure size 432x288 with 1 Axes>"
      ]
     },
     "metadata": {
      "needs_background": "light"
     },
     "output_type": "display_data"
    },
    {
     "data": {
      "image/png": "[encoded data removed]",
      "text/plain": [
       "<Figure size 432x288 with 1 Axes>"
      ]
     },
     "metadata": {
      "needs_background": "light"
     },
     "output_type": "display_data"
    },
    {
     "data": {
      "image/png": "[encoded data removed]",
      "text/plain": [
       "<Figure size 432x288 with 1 Axes>"
      ]
     },
     "metadata": {
      "needs_background": "light"
     },
     "output_type": "display_data"
    },
    {
     "data": {
      "image/png": "[encoded data removed]",
      "text/plain": [
       "<Figure size 432x288 with 1 Axes>"
      ]
     },
     "metadata": {
      "needs_background": "light"
     },
     "output_type": "display_data"
    },
    {
     "data": {
      "image/png": "[encoded data removed]",
      "text/plain": [
       "<Figure size 432x288 with 1 Axes>"
      ]
     },
     "metadata": {
      "needs_background": "light"
     },
     "output_type": "display_data"
    },
    {
     "data": {
      "image/png": "[encoded data removed]",
      "text/plain": [
       "<Figure size 432x288 with 1 Axes>"
      ]
     },
     "metadata": {
      "needs_background": "light"
     },
     "output_type": "display_data"
    },
    {
     "data": {
      "image/png": "[encoded data removed]",
      "text/plain": [
       "<Figure size 432x288 with 1 Axes>"
      ]
     },
     "metadata": {
      "needs_background": "light"
     },
     "output_type": "display_data"
    },
    {
     "data": {
      "image/png": "[encoded data removed]",
      "text/plain": [
       "<Figure size 432x288 with 1 Axes>"
      ]
     },
     "metadata": {
      "needs_background": "light"
     },
     "output_type": "display_data"
    },
    {
     "data": {
      "image/png": "[encoded data removed]",
      "text/plain": [
       "<Figure size 432x288 with 1 Axes>"
      ]
     },
     "metadata": {
      "needs_background": "light"
     },
     "output_type": "display_data"
    },
    {
     "data": {
      "image/png": "[encoded data removed]",
      "text/plain": [
       "<Figure size 432x288 with 1 Axes>"
      ]
     },
     "metadata": {
      "needs_background": "light"
     },
     "output_type": "display_data"
    },
    {
     "data": {
      "image/png": "[encoded data removed]",
      "text/plain": [
       "<Figure size 432x288 with 1 Axes>"
      ]
     },
     "metadata": {
      "needs_background": "light"
     },
     "output_type": "display_data"
    },
    {
     "data": {
      "image/png": "[encoded data removed]",
      "text/plain": [
       "<Figure size 432x288 with 1 Axes>"
      ]
     },
     "metadata": {
      "needs_background": "light"
     },
     "output_type": "display_data"
    },
    {
     "data": {
      "image/png": "[encoded data removed]",
      "text/plain": [
       "<Figure size 432x288 with 1 Axes>"
      ]
     },
     "metadata": {
      "needs_background": "light"
     },
     "output_type": "display_data"
    },
    {
     "data": {
      "image/png": "[encoded data removed]",
      "text/plain": [
       "<Figure size 432x288 with 1 Axes>"
      ]
     },
     "metadata": {
      "needs_background": "light"
     },
     "output_type": "display_data"
    },
    {
     "data": {
      "image/png": "[encoded data removed]",
      "text/plain": [
       "<Figure size 432x288 with 1 Axes>"
      ]
     },
     "metadata": {
      "needs_background": "light"
     },
     "output_type": "display_data"
    },
    {
     "data": {
      "image/png": "[encoded data removed]",
      "text/plain": [
       "<Figure size 432x288 with 1 Axes>"
      ]
     },
     "metadata": {
      "needs_background": "light"
     },
     "output_type": "display_data"
    },
    {
     "data": {
      "image/png": "[encoded data removed]",
      "text/plain": [
       "<Figure size 432x288 with 1 Axes>"
      ]
     },
     "metadata": {
      "needs_background": "light"
     },
     "output_type": "display_data"
    },
    {
     "data": {
      "image/png": "[encoded data removed]",
      "text/plain": [
       "<Figure size 432x288 with 1 Axes>"
      ]
     },
     "metadata": {
      "needs_background": "light"
     },
     "output_type": "display_data"
    }
   ],
   "source": [
    "agents_df = df.agents\n",
    "ldf = pd.concat([agents_df,df.timestep], axis=1)\n",
    "pdf = ldf.agents.apply(pd.Series)\n",
    "\n",
    "for column in pdf:\n",
    "    fields = ['USD', 'ETH']\n",
    "    df2 = pd.DataFrame([vars(f) for f in pdf[column]])\n",
    "    df3 = pd.DataFrame([vars(f) for f in df2._wallet])\n",
    "    df3.plot(title=column)"
   ]
  },
  {
   "cell_type": "code",
   "execution_count": 8,
   "metadata": {},
   "outputs": [
    {
     "data": {
      "text/html": [
       "<div>\n",
       "<style scoped>\n",
       "    .dataframe tbody tr th:only-of-type {\n",
       "        vertical-align: middle;\n",
       "    }\n",
       "\n",
       "    .dataframe tbody tr th {\n",
       "        vertical-align: top;\n",
       "    }\n",
       "\n",
       "    .dataframe thead th {\n",
       "        text-align: right;\n",
       "    }\n",
       "</style>\n",
       "<table border=\"1\" class=\"dataframe\">\n",
       "  <thead>\n",
       "    <tr style=\"text-align: right;\">\n",
       "      <th></th>\n",
       "      <th>ss</th>\n",
       "      <th>tick</th>\n",
       "      <th>tokenA</th>\n",
       "      <th>tokenB</th>\n",
       "      <th>white_pool_volume_USD</th>\n",
       "      <th>grey_pool_volume_USD</th>\n",
       "      <th>_total_Liq_minted_White</th>\n",
       "      <th>_total_Liq_minted_Grey</th>\n",
       "      <th>_total_Liq_supply_White</th>\n",
       "      <th>_total_Liq_supply_Grey</th>\n",
       "      <th>_total_Liq_burned_White</th>\n",
       "      <th>_total_Liq_burned_Grey</th>\n",
       "      <th>_next_free_marketplace_number</th>\n",
       "      <th>_marketplace_tick_previous_add</th>\n",
       "      <th>_percent_burn</th>\n",
       "      <th>_speculation_valuation</th>\n",
       "      <th>_percent_increase_speculation_valuation_per_s</th>\n",
       "      <th>kpis</th>\n",
       "    </tr>\n",
       "  </thead>\n",
       "  <tbody>\n",
       "    <tr>\n",
       "      <th>96</th>\n",
       "      <td>SimStrategy={growth_rate_if_0_sales=-0.118, in...</td>\n",
       "      <td>96</td>\n",
       "      <td>&lt;model.parts.agents.web3engine.uniswappool.Tok...</td>\n",
       "      <td>&lt;model.parts.agents.web3engine.uniswappool.Tok...</td>\n",
       "      <td>50080.88</td>\n",
       "      <td>58751.56</td>\n",
       "      <td>119.10</td>\n",
       "      <td>175.88</td>\n",
       "      <td>119.10</td>\n",
       "      <td>175.88</td>\n",
       "      <td>0.00</td>\n",
       "      <td>0.00</td>\n",
       "      <td>0</td>\n",
       "      <td>0</td>\n",
       "      <td>0.05</td>\n",
       "      <td>5000091.33</td>\n",
       "      <td>0.00</td>\n",
       "      <td>&lt;model.Kpis.KPIs object at 0x7fc161039d60&gt;</td>\n",
       "    </tr>\n",
       "    <tr>\n",
       "      <th>97</th>\n",
       "      <td>SimStrategy={growth_rate_if_0_sales=-0.118, in...</td>\n",
       "      <td>97</td>\n",
       "      <td>&lt;model.parts.agents.web3engine.uniswappool.Tok...</td>\n",
       "      <td>&lt;model.parts.agents.web3engine.uniswappool.Tok...</td>\n",
       "      <td>50080.88</td>\n",
       "      <td>58751.56</td>\n",
       "      <td>119.10</td>\n",
       "      <td>175.88</td>\n",
       "      <td>119.10</td>\n",
       "      <td>175.88</td>\n",
       "      <td>0.00</td>\n",
       "      <td>0.00</td>\n",
       "      <td>0</td>\n",
       "      <td>0</td>\n",
       "      <td>0.05</td>\n",
       "      <td>5000092.28</td>\n",
       "      <td>0.00</td>\n",
       "      <td>&lt;model.Kpis.KPIs object at 0x7fc161048d90&gt;</td>\n",
       "    </tr>\n",
       "    <tr>\n",
       "      <th>98</th>\n",
       "      <td>SimStrategy={growth_rate_if_0_sales=-0.118, in...</td>\n",
       "      <td>98</td>\n",
       "      <td>&lt;model.parts.agents.web3engine.uniswappool.Tok...</td>\n",
       "      <td>&lt;model.parts.agents.web3engine.uniswappool.Tok...</td>\n",
       "      <td>50080.88</td>\n",
       "      <td>58751.56</td>\n",
       "      <td>119.10</td>\n",
       "      <td>175.88</td>\n",
       "      <td>119.10</td>\n",
       "      <td>175.88</td>\n",
       "      <td>0.00</td>\n",
       "      <td>0.00</td>\n",
       "      <td>0</td>\n",
       "      <td>0</td>\n",
       "      <td>0.05</td>\n",
       "      <td>5000093.23</td>\n",
       "      <td>0.00</td>\n",
       "      <td>&lt;model.Kpis.KPIs object at 0x7fc161055dc0&gt;</td>\n",
       "    </tr>\n",
       "    <tr>\n",
       "      <th>99</th>\n",
       "      <td>SimStrategy={growth_rate_if_0_sales=-0.118, in...</td>\n",
       "      <td>99</td>\n",
       "      <td>&lt;model.parts.agents.web3engine.uniswappool.Tok...</td>\n",
       "      <td>&lt;model.parts.agents.web3engine.uniswappool.Tok...</td>\n",
       "      <td>50080.88</td>\n",
       "      <td>58751.56</td>\n",
       "      <td>119.10</td>\n",
       "      <td>175.88</td>\n",
       "      <td>119.10</td>\n",
       "      <td>175.88</td>\n",
       "      <td>0.00</td>\n",
       "      <td>0.00</td>\n",
       "      <td>0</td>\n",
       "      <td>0</td>\n",
       "      <td>0.05</td>\n",
       "      <td>5000094.18</td>\n",
       "      <td>0.00</td>\n",
       "      <td>&lt;model.Kpis.KPIs object at 0x7fc161063df0&gt;</td>\n",
       "    </tr>\n",
       "    <tr>\n",
       "      <th>100</th>\n",
       "      <td>SimStrategy={growth_rate_if_0_sales=-0.118, in...</td>\n",
       "      <td>100</td>\n",
       "      <td>&lt;model.parts.agents.web3engine.uniswappool.Tok...</td>\n",
       "      <td>&lt;model.parts.agents.web3engine.uniswappool.Tok...</td>\n",
       "      <td>52104.31</td>\n",
       "      <td>60761.56</td>\n",
       "      <td>119.59</td>\n",
       "      <td>176.06</td>\n",
       "      <td>119.59</td>\n",
       "      <td>176.06</td>\n",
       "      <td>0.00</td>\n",
       "      <td>0.00</td>\n",
       "      <td>0</td>\n",
       "      <td>0</td>\n",
       "      <td>0.05</td>\n",
       "      <td>5000095.13</td>\n",
       "      <td>0.00</td>\n",
       "      <td>&lt;model.Kpis.KPIs object at 0x7fc16106eeb0&gt;</td>\n",
       "    </tr>\n",
       "  </tbody>\n",
       "</table>\n",
       "</div>"
      ],
      "text/plain": [
       "                                                    ss  tick  \\\n",
       "96   SimStrategy={growth_rate_if_0_sales=-0.118, in...    96   \n",
       "97   SimStrategy={growth_rate_if_0_sales=-0.118, in...    97   \n",
       "98   SimStrategy={growth_rate_if_0_sales=-0.118, in...    98   \n",
       "99   SimStrategy={growth_rate_if_0_sales=-0.118, in...    99   \n",
       "100  SimStrategy={growth_rate_if_0_sales=-0.118, in...   100   \n",
       "\n",
       "                                                tokenA  \\\n",
       "96   <model.parts.agents.web3engine.uniswappool.Tok...   \n",
       "97   <model.parts.agents.web3engine.uniswappool.Tok...   \n",
       "98   <model.parts.agents.web3engine.uniswappool.Tok...   \n",
       "99   <model.parts.agents.web3engine.uniswappool.Tok...   \n",
       "100  <model.parts.agents.web3engine.uniswappool.Tok...   \n",
       "\n",
       "                                                tokenB  white_pool_volume_USD  \\\n",
       "96   <model.parts.agents.web3engine.uniswappool.Tok...               50080.88   \n",
       "97   <model.parts.agents.web3engine.uniswappool.Tok...               50080.88   \n",
       "98   <model.parts.agents.web3engine.uniswappool.Tok...               50080.88   \n",
       "99   <model.parts.agents.web3engine.uniswappool.Tok...               50080.88   \n",
       "100  <model.parts.agents.web3engine.uniswappool.Tok...               52104.31   \n",
       "\n",
       "     grey_pool_volume_USD  _total_Liq_minted_White  _total_Liq_minted_Grey  \\\n",
       "96               58751.56                   119.10                  175.88   \n",
       "97               58751.56                   119.10                  175.88   \n",
       "98               58751.56                   119.10                  175.88   \n",
       "99               58751.56                   119.10                  175.88   \n",
       "100              60761.56                   119.59                  176.06   \n",
       "\n",
       "     _total_Liq_supply_White  _total_Liq_supply_Grey  _total_Liq_burned_White  \\\n",
       "96                    119.10                  175.88                     0.00   \n",
       "97                    119.10                  175.88                     0.00   \n",
       "98                    119.10                  175.88                     0.00   \n",
       "99                    119.10                  175.88                     0.00   \n",
       "100                   119.59                  176.06                     0.00   \n",
       "\n",
       "     _total_Liq_burned_Grey  _next_free_marketplace_number  \\\n",
       "96                     0.00                              0   \n",
       "97                     0.00                              0   \n",
       "98                     0.00                              0   \n",
       "99                     0.00                              0   \n",
       "100                    0.00                              0   \n",
       "\n",
       "     _marketplace_tick_previous_add  _percent_burn  _speculation_valuation  \\\n",
       "96                                0           0.05              5000091.33   \n",
       "97                                0           0.05              5000092.28   \n",
       "98                                0           0.05              5000093.23   \n",
       "99                                0           0.05              5000094.18   \n",
       "100                               0           0.05              5000095.13   \n",
       "\n",
       "     _percent_increase_speculation_valuation_per_s  \\\n",
       "96                                            0.00   \n",
       "97                                            0.00   \n",
       "98                                            0.00   \n",
       "99                                            0.00   \n",
       "100                                           0.00   \n",
       "\n",
       "                                           kpis  \n",
       "96   <model.Kpis.KPIs object at 0x7fc161039d60>  \n",
       "97   <model.Kpis.KPIs object at 0x7fc161048d90>  \n",
       "98   <model.Kpis.KPIs object at 0x7fc161055dc0>  \n",
       "99   <model.Kpis.KPIs object at 0x7fc161063df0>  \n",
       "100  <model.Kpis.KPIs object at 0x7fc16106eeb0>  "
      ]
     },
     "execution_count": 8,
     "metadata": {},
     "output_type": "execute_result"
    }
   ],
   "source": [
    "df_state = pd.DataFrame([vars(f) for f in df.state.to_numpy()])\n",
    "df_state.tail()\n",
    "# fields = ['val', 'other_field']\n",
    "# pd.DataFrame([{fn: getattr(f, fn) for fn in fields} for f in allFoo])\n",
    "# pd.DataFrame([vars(f) for f in df_state.tokenA.to_numpy()])"
   ]
  },
  {
   "cell_type": "code",
   "execution_count": 9,
   "metadata": {
    "scrolled": true
   },
   "outputs": [
    {
     "data": {
      "text/html": [
       "<div>\n",
       "<style scoped>\n",
       "    .dataframe tbody tr th:only-of-type {\n",
       "        vertical-align: middle;\n",
       "    }\n",
       "\n",
       "    .dataframe tbody tr th {\n",
       "        vertical-align: top;\n",
       "    }\n",
       "\n",
       "    .dataframe thead th {\n",
       "        text-align: right;\n",
       "    }\n",
       "</style>\n",
       "<table border=\"1\" class=\"dataframe\">\n",
       "  <thead>\n",
       "    <tr style=\"text-align: right;\">\n",
       "      <th></th>\n",
       "      <th>agents</th>\n",
       "      <th>state</th>\n",
       "      <th>simulation</th>\n",
       "      <th>subset</th>\n",
       "      <th>run</th>\n",
       "      <th>substep</th>\n",
       "      <th>timestep</th>\n",
       "    </tr>\n",
       "  </thead>\n",
       "  <tbody>\n",
       "    <tr>\n",
       "      <th>96</th>\n",
       "      <td>{'White Pool': PoolAgent={name=White Pool, _ab...</td>\n",
       "      <td>&lt;model.SimState.SimState object at 0x7fc161039...</td>\n",
       "      <td>0</td>\n",
       "      <td>0</td>\n",
       "      <td>1</td>\n",
       "      <td>3</td>\n",
       "      <td>96</td>\n",
       "    </tr>\n",
       "    <tr>\n",
       "      <th>97</th>\n",
       "      <td>{'White Pool': PoolAgent={name=White Pool, _ab...</td>\n",
       "      <td>&lt;model.SimState.SimState object at 0x7fc161048...</td>\n",
       "      <td>0</td>\n",
       "      <td>0</td>\n",
       "      <td>1</td>\n",
       "      <td>3</td>\n",
       "      <td>97</td>\n",
       "    </tr>\n",
       "    <tr>\n",
       "      <th>98</th>\n",
       "      <td>{'White Pool': PoolAgent={name=White Pool, _ab...</td>\n",
       "      <td>&lt;model.SimState.SimState object at 0x7fc161055...</td>\n",
       "      <td>0</td>\n",
       "      <td>0</td>\n",
       "      <td>1</td>\n",
       "      <td>3</td>\n",
       "      <td>98</td>\n",
       "    </tr>\n",
       "    <tr>\n",
       "      <th>99</th>\n",
       "      <td>{'White Pool': PoolAgent={name=White Pool, _ab...</td>\n",
       "      <td>&lt;model.SimState.SimState object at 0x7fc161063...</td>\n",
       "      <td>0</td>\n",
       "      <td>0</td>\n",
       "      <td>1</td>\n",
       "      <td>3</td>\n",
       "      <td>99</td>\n",
       "    </tr>\n",
       "    <tr>\n",
       "      <th>100</th>\n",
       "      <td>{'White Pool': PoolAgent={name=White Pool, _ab...</td>\n",
       "      <td>&lt;model.SimState.SimState object at 0x7fc16106e...</td>\n",
       "      <td>0</td>\n",
       "      <td>0</td>\n",
       "      <td>1</td>\n",
       "      <td>3</td>\n",
       "      <td>100</td>\n",
       "    </tr>\n",
       "  </tbody>\n",
       "</table>\n",
       "</div>"
      ],
      "text/plain": [
       "                                                agents  \\\n",
       "96   {'White Pool': PoolAgent={name=White Pool, _ab...   \n",
       "97   {'White Pool': PoolAgent={name=White Pool, _ab...   \n",
       "98   {'White Pool': PoolAgent={name=White Pool, _ab...   \n",
       "99   {'White Pool': PoolAgent={name=White Pool, _ab...   \n",
       "100  {'White Pool': PoolAgent={name=White Pool, _ab...   \n",
       "\n",
       "                                                 state  simulation  subset  \\\n",
       "96   <model.SimState.SimState object at 0x7fc161039...           0       0   \n",
       "97   <model.SimState.SimState object at 0x7fc161048...           0       0   \n",
       "98   <model.SimState.SimState object at 0x7fc161055...           0       0   \n",
       "99   <model.SimState.SimState object at 0x7fc161063...           0       0   \n",
       "100  <model.SimState.SimState object at 0x7fc16106e...           0       0   \n",
       "\n",
       "     run  substep  timestep  \n",
       "96     1        3        96  \n",
       "97     1        3        97  \n",
       "98     1        3        98  \n",
       "99     1        3        99  \n",
       "100    1        3       100  "
      ]
     },
     "execution_count": 9,
     "metadata": {},
     "output_type": "execute_result"
    }
   ],
   "source": [
    "df.tail()"
   ]
  },
  {
   "cell_type": "markdown",
   "metadata": {},
   "source": [
    " "
   ]
  },
  {
   "cell_type": "markdown",
   "metadata": {},
   "source": [
    "# Uniswap Universe"
   ]
  },
  {
   "cell_type": "markdown",
   "metadata": {},
   "source": [
    "## Global State variables for the Uniswap world\n",
    "## i - Q instance\n",
    "### Quantities of i-th risk asset, the Q asset and the i-asset shares\n",
    "\n",
    "The following command lines **create three plots** that show: (for the i-th asset)\n",
    "- on the left: the quantity of base asset `model_UNI_Qi` \n",
    "- center: the quantity of risk asset `model_UNI_Ri` \n",
    "- on the right: the quantity of shares `model_UNI_Si`\n",
    "over all simulation steps\n",
    "\n",
    "To show other assets the suffix of these commands can be replaced by f.e. `Qj` instead of `Qi`"
   ]
  },
  {
   "cell_type": "markdown",
   "metadata": {},
   "source": [
    "### Prices of the i-th asset\n",
    "\n",
    "The following command line creates a plot of the prices: (for the i-th asset)\n",
    "- the swap price of the risk asset \n",
    "- the pool ratio price of the risk asset\n",
    "\n",
    "Comparison of both plots shows the effects of fees.\n",
    "\n",
    "For experiments where the price of the asset is affected - for example when it is traded - we expect this price either to rise or fall accordingly. For liquidity adds this price should remain unchanged.\n",
    "\n",
    "To show other assets the suffix of these commands can be replaced by f.e. `Qj` instead of `Qi`"
   ]
  },
  {
   "cell_type": "markdown",
   "metadata": {},
   "source": [
    "## j - Q instance\n",
    "### Quantities of j-th risk asset, the Q asset and the j-asset shares\n",
    "\n",
    "\n",
    "The following command lines create three plots that show: (for the j-th asset)\n",
    "- on the left: the quantity of base asset `UNI_Qj` \n",
    "- center: the quantity of risk asset `UNI_Rj`\n",
    "- on the right: the quantity of shares `UNI_Sj`\n",
    "\n",
    "over the simulation steps"
   ]
  },
  {
   "cell_type": "markdown",
   "metadata": {},
   "source": [
    "### Prices of the j-th asset\n",
    "\n",
    "The following command line creates a plot of the prices: (for the j-th asset)\n",
    "- the swap price of the risk asset \n",
    "- the pool ratio price of the risk asset\n",
    "\n",
    "Comparison of both plots shows the effects of fees.\n",
    "\n",
    "For experiments where the price of the asset is affected - for example when it is traded - we expect this price either to rise or fall accordingly. For liquidity adds this price should remain unchanged."
   ]
  }
 ],
 "metadata": {
  "interpreter": {
   "hash": "4bbef7007f5b0dd97ce418d67629966023bc9b28fb01f1a1ced260c4f6a8649f"
  },
  "kernelspec": {
   "display_name": "Python 3.8.0 64-bit ('rlcadenv': conda)",
   "name": "python3"
  },
  "language_info": {
   "codemirror_mode": {
    "name": "ipython",
    "version": 3
   },
   "file_extension": ".py",
   "mimetype": "text/x-python",
   "name": "python",
   "nbconvert_exporter": "python",
   "pygments_lexer": "ipython3",
   "version": "3.8.0"
  },
  "toc-autonumbering": true
 },
 "nbformat": 4,
 "nbformat_minor": 4
}
